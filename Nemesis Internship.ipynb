{
 "cells": [
  {
   "cell_type": "markdown",
   "id": "cbbe434d",
   "metadata": {},
   "source": [
    "#  Transaction Fraud Detection"
   ]
  },
  {
   "cell_type": "markdown",
   "id": "7f1ff170",
   "metadata": {},
   "source": [
    "### Problem Statement"
   ]
  },
  {
   "cell_type": "markdown",
   "id": "3d24f7fa",
   "metadata": {},
   "source": [
    "Fraud detection is an important aspect of banking and financial companies. It’s essential for both financial institutions as well as their customers to be able to identify fraud quickly and accurately. objective is to build a predictive model to determine whether a given transaction will be fraudulent or not. "
   ]
  },
  {
   "cell_type": "code",
   "execution_count": 1,
   "id": "f8dde200",
   "metadata": {},
   "outputs": [],
   "source": [
    "import pandas as pd\n",
    "import json\n",
    "import seaborn as sns\n",
    "import numpy as np\n",
    "import matplotlib.pyplot as plt\n",
    "import plotly.express as px\n",
    "from sklearn.impute import SimpleImputer\n",
    "from statsmodels.stats.outliers_influence import variance_inflation_factor\n",
    "from sklearn.compose import ColumnTransformer\n",
    "from sklearn.preprocessing import MinMaxScaler, LabelEncoder, OrdinalEncoder, OneHotEncoder\n",
    "from sklearn.model_selection import train_test_split\n",
    "from sklearn.pipeline import Pipeline\n",
    "from sklearn.neighbors import KNeighborsClassifier\n",
    "from sklearn.linear_model import LogisticRegression\n",
    "from sklearn.svm import SVC\n",
    "from sklearn.model_selection import GridSearchCV\n",
    "from sklearn.tree import DecisionTreeClassifier\n",
    "from sklearn.ensemble import RandomForestClassifier,VotingClassifier\n",
    "from imblearn.under_sampling import RandomUnderSampler\n",
    "from sklearn.metrics import confusion_matrix,recall_score,precision_score,f1_score,accuracy_score,classification_report"
   ]
  },
  {
   "cell_type": "markdown",
   "id": "578ff54a",
   "metadata": {},
   "source": [
    "###  Loading Files and Data"
   ]
  },
  {
   "cell_type": "code",
   "execution_count": 2,
   "id": "e37b66ae",
   "metadata": {},
   "outputs": [],
   "source": [
    "location='transactions.txt'"
   ]
  },
  {
   "cell_type": "code",
   "execution_count": 3,
   "id": "ebb7c628",
   "metadata": {},
   "outputs": [],
   "source": [
    "def create_and_load_data(path):\n",
    "    dic = {}\n",
    "    file = open(path, 'r')\n",
    "    for line in file:\n",
    "        ser = json.loads(line)\n",
    "        for i in ser.keys():\n",
    "            if i not in dic.keys():\n",
    "                dic[i] = []\n",
    "            dic[i].append(ser[i])\n",
    "    return dic"
   ]
  },
  {
   "cell_type": "code",
   "execution_count": 4,
   "id": "50933763",
   "metadata": {},
   "outputs": [],
   "source": [
    "data = create_and_load_data(location)"
   ]
  },
  {
   "cell_type": "code",
   "execution_count": 5,
   "id": "345dad05",
   "metadata": {},
   "outputs": [],
   "source": [
    "df = pd.DataFrame(data)"
   ]
  },
  {
   "cell_type": "code",
   "execution_count": 6,
   "id": "9dbe5185",
   "metadata": {},
   "outputs": [],
   "source": [
    "df.to_csv('transaction.csv')\n",
    "#for future use "
   ]
  },
  {
   "cell_type": "code",
   "execution_count": 7,
   "id": "8bb833f9",
   "metadata": {},
   "outputs": [
    {
     "data": {
      "text/html": [
       "<div>\n",
       "<style scoped>\n",
       "    .dataframe tbody tr th:only-of-type {\n",
       "        vertical-align: middle;\n",
       "    }\n",
       "\n",
       "    .dataframe tbody tr th {\n",
       "        vertical-align: top;\n",
       "    }\n",
       "\n",
       "    .dataframe thead th {\n",
       "        text-align: right;\n",
       "    }\n",
       "</style>\n",
       "<table border=\"1\" class=\"dataframe\">\n",
       "  <thead>\n",
       "    <tr style=\"text-align: right;\">\n",
       "      <th></th>\n",
       "      <th>accountNumber</th>\n",
       "      <th>customerId</th>\n",
       "      <th>creditLimit</th>\n",
       "      <th>availableMoney</th>\n",
       "      <th>transactionDateTime</th>\n",
       "      <th>transactionAmount</th>\n",
       "      <th>merchantName</th>\n",
       "      <th>acqCountry</th>\n",
       "      <th>merchantCountryCode</th>\n",
       "      <th>posEntryMode</th>\n",
       "      <th>...</th>\n",
       "      <th>echoBuffer</th>\n",
       "      <th>currentBalance</th>\n",
       "      <th>merchantCity</th>\n",
       "      <th>merchantState</th>\n",
       "      <th>merchantZip</th>\n",
       "      <th>cardPresent</th>\n",
       "      <th>posOnPremises</th>\n",
       "      <th>recurringAuthInd</th>\n",
       "      <th>expirationDateKeyInMatch</th>\n",
       "      <th>isFraud</th>\n",
       "    </tr>\n",
       "  </thead>\n",
       "  <tbody>\n",
       "    <tr>\n",
       "      <th>0</th>\n",
       "      <td>737265056</td>\n",
       "      <td>737265056</td>\n",
       "      <td>5000.0</td>\n",
       "      <td>5000.0</td>\n",
       "      <td>2016-08-13T14:27:32</td>\n",
       "      <td>98.55</td>\n",
       "      <td>Uber</td>\n",
       "      <td>US</td>\n",
       "      <td>US</td>\n",
       "      <td>02</td>\n",
       "      <td>...</td>\n",
       "      <td></td>\n",
       "      <td>0.0</td>\n",
       "      <td></td>\n",
       "      <td></td>\n",
       "      <td></td>\n",
       "      <td>False</td>\n",
       "      <td></td>\n",
       "      <td></td>\n",
       "      <td>False</td>\n",
       "      <td>False</td>\n",
       "    </tr>\n",
       "    <tr>\n",
       "      <th>1</th>\n",
       "      <td>737265056</td>\n",
       "      <td>737265056</td>\n",
       "      <td>5000.0</td>\n",
       "      <td>5000.0</td>\n",
       "      <td>2016-10-11T05:05:54</td>\n",
       "      <td>74.51</td>\n",
       "      <td>AMC #191138</td>\n",
       "      <td>US</td>\n",
       "      <td>US</td>\n",
       "      <td>09</td>\n",
       "      <td>...</td>\n",
       "      <td></td>\n",
       "      <td>0.0</td>\n",
       "      <td></td>\n",
       "      <td></td>\n",
       "      <td></td>\n",
       "      <td>True</td>\n",
       "      <td></td>\n",
       "      <td></td>\n",
       "      <td>False</td>\n",
       "      <td>False</td>\n",
       "    </tr>\n",
       "    <tr>\n",
       "      <th>2</th>\n",
       "      <td>737265056</td>\n",
       "      <td>737265056</td>\n",
       "      <td>5000.0</td>\n",
       "      <td>5000.0</td>\n",
       "      <td>2016-11-08T09:18:39</td>\n",
       "      <td>7.47</td>\n",
       "      <td>Play Store</td>\n",
       "      <td>US</td>\n",
       "      <td>US</td>\n",
       "      <td>09</td>\n",
       "      <td>...</td>\n",
       "      <td></td>\n",
       "      <td>0.0</td>\n",
       "      <td></td>\n",
       "      <td></td>\n",
       "      <td></td>\n",
       "      <td>False</td>\n",
       "      <td></td>\n",
       "      <td></td>\n",
       "      <td>False</td>\n",
       "      <td>False</td>\n",
       "    </tr>\n",
       "    <tr>\n",
       "      <th>3</th>\n",
       "      <td>737265056</td>\n",
       "      <td>737265056</td>\n",
       "      <td>5000.0</td>\n",
       "      <td>5000.0</td>\n",
       "      <td>2016-12-10T02:14:50</td>\n",
       "      <td>7.47</td>\n",
       "      <td>Play Store</td>\n",
       "      <td>US</td>\n",
       "      <td>US</td>\n",
       "      <td>09</td>\n",
       "      <td>...</td>\n",
       "      <td></td>\n",
       "      <td>0.0</td>\n",
       "      <td></td>\n",
       "      <td></td>\n",
       "      <td></td>\n",
       "      <td>False</td>\n",
       "      <td></td>\n",
       "      <td></td>\n",
       "      <td>False</td>\n",
       "      <td>False</td>\n",
       "    </tr>\n",
       "    <tr>\n",
       "      <th>4</th>\n",
       "      <td>830329091</td>\n",
       "      <td>830329091</td>\n",
       "      <td>5000.0</td>\n",
       "      <td>5000.0</td>\n",
       "      <td>2016-03-24T21:04:46</td>\n",
       "      <td>71.18</td>\n",
       "      <td>Tim Hortons #947751</td>\n",
       "      <td>US</td>\n",
       "      <td>US</td>\n",
       "      <td>02</td>\n",
       "      <td>...</td>\n",
       "      <td></td>\n",
       "      <td>0.0</td>\n",
       "      <td></td>\n",
       "      <td></td>\n",
       "      <td></td>\n",
       "      <td>True</td>\n",
       "      <td></td>\n",
       "      <td></td>\n",
       "      <td>False</td>\n",
       "      <td>False</td>\n",
       "    </tr>\n",
       "  </tbody>\n",
       "</table>\n",
       "<p>5 rows × 29 columns</p>\n",
       "</div>"
      ],
      "text/plain": [
       "  accountNumber customerId  creditLimit  availableMoney  transactionDateTime  \\\n",
       "0     737265056  737265056       5000.0          5000.0  2016-08-13T14:27:32   \n",
       "1     737265056  737265056       5000.0          5000.0  2016-10-11T05:05:54   \n",
       "2     737265056  737265056       5000.0          5000.0  2016-11-08T09:18:39   \n",
       "3     737265056  737265056       5000.0          5000.0  2016-12-10T02:14:50   \n",
       "4     830329091  830329091       5000.0          5000.0  2016-03-24T21:04:46   \n",
       "\n",
       "   transactionAmount         merchantName acqCountry merchantCountryCode  \\\n",
       "0              98.55                 Uber         US                  US   \n",
       "1              74.51          AMC #191138         US                  US   \n",
       "2               7.47           Play Store         US                  US   \n",
       "3               7.47           Play Store         US                  US   \n",
       "4              71.18  Tim Hortons #947751         US                  US   \n",
       "\n",
       "  posEntryMode  ... echoBuffer currentBalance merchantCity merchantState  \\\n",
       "0           02  ...                       0.0                              \n",
       "1           09  ...                       0.0                              \n",
       "2           09  ...                       0.0                              \n",
       "3           09  ...                       0.0                              \n",
       "4           02  ...                       0.0                              \n",
       "\n",
       "  merchantZip cardPresent posOnPremises recurringAuthInd  \\\n",
       "0                   False                                  \n",
       "1                    True                                  \n",
       "2                   False                                  \n",
       "3                   False                                  \n",
       "4                    True                                  \n",
       "\n",
       "  expirationDateKeyInMatch isFraud  \n",
       "0                    False   False  \n",
       "1                    False   False  \n",
       "2                    False   False  \n",
       "3                    False   False  \n",
       "4                    False   False  \n",
       "\n",
       "[5 rows x 29 columns]"
      ]
     },
     "execution_count": 7,
     "metadata": {},
     "output_type": "execute_result"
    }
   ],
   "source": [
    "df.head()"
   ]
  },
  {
   "cell_type": "code",
   "execution_count": 8,
   "id": "04b2583a",
   "metadata": {},
   "outputs": [],
   "source": [
    "df_copy = df.copy()"
   ]
  },
  {
   "cell_type": "code",
   "execution_count": 9,
   "id": "802e42c3",
   "metadata": {},
   "outputs": [
    {
     "name": "stdout",
     "output_type": "stream",
     "text": [
      "<class 'pandas.core.frame.DataFrame'>\n",
      "RangeIndex: 786363 entries, 0 to 786362\n",
      "Data columns (total 29 columns):\n",
      " #   Column                    Non-Null Count   Dtype  \n",
      "---  ------                    --------------   -----  \n",
      " 0   accountNumber             786363 non-null  object \n",
      " 1   customerId                786363 non-null  object \n",
      " 2   creditLimit               786363 non-null  float64\n",
      " 3   availableMoney            786363 non-null  float64\n",
      " 4   transactionDateTime       786363 non-null  object \n",
      " 5   transactionAmount         786363 non-null  float64\n",
      " 6   merchantName              786363 non-null  object \n",
      " 7   acqCountry                786363 non-null  object \n",
      " 8   merchantCountryCode       786363 non-null  object \n",
      " 9   posEntryMode              786363 non-null  object \n",
      " 10  posConditionCode          786363 non-null  object \n",
      " 11  merchantCategoryCode      786363 non-null  object \n",
      " 12  currentExpDate            786363 non-null  object \n",
      " 13  accountOpenDate           786363 non-null  object \n",
      " 14  dateOfLastAddressChange   786363 non-null  object \n",
      " 15  cardCVV                   786363 non-null  object \n",
      " 16  enteredCVV                786363 non-null  object \n",
      " 17  cardLast4Digits           786363 non-null  object \n",
      " 18  transactionType           786363 non-null  object \n",
      " 19  echoBuffer                786363 non-null  object \n",
      " 20  currentBalance            786363 non-null  float64\n",
      " 21  merchantCity              786363 non-null  object \n",
      " 22  merchantState             786363 non-null  object \n",
      " 23  merchantZip               786363 non-null  object \n",
      " 24  cardPresent               786363 non-null  bool   \n",
      " 25  posOnPremises             786363 non-null  object \n",
      " 26  recurringAuthInd          786363 non-null  object \n",
      " 27  expirationDateKeyInMatch  786363 non-null  bool   \n",
      " 28  isFraud                   786363 non-null  bool   \n",
      "dtypes: bool(3), float64(4), object(22)\n",
      "memory usage: 158.2+ MB\n"
     ]
    }
   ],
   "source": [
    "df_copy.info()"
   ]
  },
  {
   "cell_type": "markdown",
   "id": "f95f0a31",
   "metadata": {},
   "source": [
    "###  Data Cleaning"
   ]
  },
  {
   "cell_type": "code",
   "execution_count": 10,
   "id": "d9d6f6bb",
   "metadata": {},
   "outputs": [],
   "source": [
    "df_copy['transactionDate'] = df_copy['transactionDateTime'].apply(lambda x : x.split('T')[0])\n",
    "df_copy['transactionTime'] = df_copy['transactionDateTime'].apply(lambda x : x.split('T')[1])\n",
    "df_copy['merchantName'] = df_copy['merchantName'].apply(lambda x : x.split('#')[0])\n",
    "df_copy['currentExpMonth'] = df_copy['currentExpDate'].apply(lambda x : x.split('/')[0])\n",
    "df_copy['currentExpYear'] = df_copy['currentExpDate'].apply(lambda x : x.split('/')[1])\n",
    "df_copy['accountOpenMonth'] = df_copy['accountOpenDate'].apply(lambda x : x.split('-')[1])\n",
    "df_copy['accountOpenYear'] = df_copy['accountOpenDate'].apply(lambda x : x.split('-')[0])\n",
    "df_copy['accountOpenDate'] = df_copy['accountOpenDate'].apply(lambda x : x.split('-')[2])\n",
    "df_copy['MonthOfLastAddressChange'] = df_copy['dateOfLastAddressChange'].apply(lambda x : x.split('-')[1])\n",
    "df_copy['YearOfLastAddressChange'] = df_copy['dateOfLastAddressChange'].apply(lambda x : x.split('-')[0])\n",
    "df_copy['DateOfLastAddressChange'] = df_copy['dateOfLastAddressChange'].apply(lambda x : x.split('-')[2])\n",
    "df_copy['transactionMonth'] = df_copy['transactionDate'].apply(lambda x : x.split('-')[1])\n",
    "df_copy['transactionDate'] = df_copy['transactionDate'].apply(lambda x : x.split('-')[2])\n",
    "df_copy['transactionHour'] = df_copy['transactionTime'].apply(lambda x : x.split(':')[0])"
   ]
  },
  {
   "cell_type": "code",
   "execution_count": 11,
   "id": "235eba2b",
   "metadata": {},
   "outputs": [
    {
     "data": {
      "text/html": [
       "<div>\n",
       "<style scoped>\n",
       "    .dataframe tbody tr th:only-of-type {\n",
       "        vertical-align: middle;\n",
       "    }\n",
       "\n",
       "    .dataframe tbody tr th {\n",
       "        vertical-align: top;\n",
       "    }\n",
       "\n",
       "    .dataframe thead th {\n",
       "        text-align: right;\n",
       "    }\n",
       "</style>\n",
       "<table border=\"1\" class=\"dataframe\">\n",
       "  <thead>\n",
       "    <tr style=\"text-align: right;\">\n",
       "      <th></th>\n",
       "      <th>accountNumber</th>\n",
       "      <th>customerId</th>\n",
       "      <th>creditLimit</th>\n",
       "      <th>availableMoney</th>\n",
       "      <th>transactionDateTime</th>\n",
       "      <th>transactionAmount</th>\n",
       "      <th>merchantName</th>\n",
       "      <th>acqCountry</th>\n",
       "      <th>merchantCountryCode</th>\n",
       "      <th>posEntryMode</th>\n",
       "      <th>...</th>\n",
       "      <th>transactionTime</th>\n",
       "      <th>currentExpMonth</th>\n",
       "      <th>currentExpYear</th>\n",
       "      <th>accountOpenMonth</th>\n",
       "      <th>accountOpenYear</th>\n",
       "      <th>MonthOfLastAddressChange</th>\n",
       "      <th>YearOfLastAddressChange</th>\n",
       "      <th>DateOfLastAddressChange</th>\n",
       "      <th>transactionMonth</th>\n",
       "      <th>transactionHour</th>\n",
       "    </tr>\n",
       "  </thead>\n",
       "  <tbody>\n",
       "    <tr>\n",
       "      <th>0</th>\n",
       "      <td>737265056</td>\n",
       "      <td>737265056</td>\n",
       "      <td>5000.0</td>\n",
       "      <td>5000.0</td>\n",
       "      <td>2016-08-13T14:27:32</td>\n",
       "      <td>98.55</td>\n",
       "      <td>Uber</td>\n",
       "      <td>US</td>\n",
       "      <td>US</td>\n",
       "      <td>02</td>\n",
       "      <td>...</td>\n",
       "      <td>14:27:32</td>\n",
       "      <td>06</td>\n",
       "      <td>2023</td>\n",
       "      <td>03</td>\n",
       "      <td>2015</td>\n",
       "      <td>03</td>\n",
       "      <td>2015</td>\n",
       "      <td>14</td>\n",
       "      <td>08</td>\n",
       "      <td>14</td>\n",
       "    </tr>\n",
       "    <tr>\n",
       "      <th>1</th>\n",
       "      <td>737265056</td>\n",
       "      <td>737265056</td>\n",
       "      <td>5000.0</td>\n",
       "      <td>5000.0</td>\n",
       "      <td>2016-10-11T05:05:54</td>\n",
       "      <td>74.51</td>\n",
       "      <td>AMC</td>\n",
       "      <td>US</td>\n",
       "      <td>US</td>\n",
       "      <td>09</td>\n",
       "      <td>...</td>\n",
       "      <td>05:05:54</td>\n",
       "      <td>02</td>\n",
       "      <td>2024</td>\n",
       "      <td>03</td>\n",
       "      <td>2015</td>\n",
       "      <td>03</td>\n",
       "      <td>2015</td>\n",
       "      <td>14</td>\n",
       "      <td>10</td>\n",
       "      <td>05</td>\n",
       "    </tr>\n",
       "    <tr>\n",
       "      <th>2</th>\n",
       "      <td>737265056</td>\n",
       "      <td>737265056</td>\n",
       "      <td>5000.0</td>\n",
       "      <td>5000.0</td>\n",
       "      <td>2016-11-08T09:18:39</td>\n",
       "      <td>7.47</td>\n",
       "      <td>Play Store</td>\n",
       "      <td>US</td>\n",
       "      <td>US</td>\n",
       "      <td>09</td>\n",
       "      <td>...</td>\n",
       "      <td>09:18:39</td>\n",
       "      <td>08</td>\n",
       "      <td>2025</td>\n",
       "      <td>03</td>\n",
       "      <td>2015</td>\n",
       "      <td>03</td>\n",
       "      <td>2015</td>\n",
       "      <td>14</td>\n",
       "      <td>11</td>\n",
       "      <td>09</td>\n",
       "    </tr>\n",
       "    <tr>\n",
       "      <th>3</th>\n",
       "      <td>737265056</td>\n",
       "      <td>737265056</td>\n",
       "      <td>5000.0</td>\n",
       "      <td>5000.0</td>\n",
       "      <td>2016-12-10T02:14:50</td>\n",
       "      <td>7.47</td>\n",
       "      <td>Play Store</td>\n",
       "      <td>US</td>\n",
       "      <td>US</td>\n",
       "      <td>09</td>\n",
       "      <td>...</td>\n",
       "      <td>02:14:50</td>\n",
       "      <td>08</td>\n",
       "      <td>2025</td>\n",
       "      <td>03</td>\n",
       "      <td>2015</td>\n",
       "      <td>03</td>\n",
       "      <td>2015</td>\n",
       "      <td>14</td>\n",
       "      <td>12</td>\n",
       "      <td>02</td>\n",
       "    </tr>\n",
       "    <tr>\n",
       "      <th>4</th>\n",
       "      <td>830329091</td>\n",
       "      <td>830329091</td>\n",
       "      <td>5000.0</td>\n",
       "      <td>5000.0</td>\n",
       "      <td>2016-03-24T21:04:46</td>\n",
       "      <td>71.18</td>\n",
       "      <td>Tim Hortons</td>\n",
       "      <td>US</td>\n",
       "      <td>US</td>\n",
       "      <td>02</td>\n",
       "      <td>...</td>\n",
       "      <td>21:04:46</td>\n",
       "      <td>10</td>\n",
       "      <td>2029</td>\n",
       "      <td>08</td>\n",
       "      <td>2015</td>\n",
       "      <td>08</td>\n",
       "      <td>2015</td>\n",
       "      <td>06</td>\n",
       "      <td>03</td>\n",
       "      <td>21</td>\n",
       "    </tr>\n",
       "  </tbody>\n",
       "</table>\n",
       "<p>5 rows × 40 columns</p>\n",
       "</div>"
      ],
      "text/plain": [
       "  accountNumber customerId  creditLimit  availableMoney  transactionDateTime  \\\n",
       "0     737265056  737265056       5000.0          5000.0  2016-08-13T14:27:32   \n",
       "1     737265056  737265056       5000.0          5000.0  2016-10-11T05:05:54   \n",
       "2     737265056  737265056       5000.0          5000.0  2016-11-08T09:18:39   \n",
       "3     737265056  737265056       5000.0          5000.0  2016-12-10T02:14:50   \n",
       "4     830329091  830329091       5000.0          5000.0  2016-03-24T21:04:46   \n",
       "\n",
       "   transactionAmount  merchantName acqCountry merchantCountryCode  \\\n",
       "0              98.55          Uber         US                  US   \n",
       "1              74.51          AMC          US                  US   \n",
       "2               7.47    Play Store         US                  US   \n",
       "3               7.47    Play Store         US                  US   \n",
       "4              71.18  Tim Hortons          US                  US   \n",
       "\n",
       "  posEntryMode  ... transactionTime currentExpMonth currentExpYear  \\\n",
       "0           02  ...        14:27:32              06           2023   \n",
       "1           09  ...        05:05:54              02           2024   \n",
       "2           09  ...        09:18:39              08           2025   \n",
       "3           09  ...        02:14:50              08           2025   \n",
       "4           02  ...        21:04:46              10           2029   \n",
       "\n",
       "  accountOpenMonth accountOpenYear MonthOfLastAddressChange  \\\n",
       "0               03            2015                       03   \n",
       "1               03            2015                       03   \n",
       "2               03            2015                       03   \n",
       "3               03            2015                       03   \n",
       "4               08            2015                       08   \n",
       "\n",
       "  YearOfLastAddressChange DateOfLastAddressChange transactionMonth  \\\n",
       "0                    2015                      14               08   \n",
       "1                    2015                      14               10   \n",
       "2                    2015                      14               11   \n",
       "3                    2015                      14               12   \n",
       "4                    2015                      06               03   \n",
       "\n",
       "  transactionHour  \n",
       "0              14  \n",
       "1              05  \n",
       "2              09  \n",
       "3              02  \n",
       "4              21  \n",
       "\n",
       "[5 rows x 40 columns]"
      ]
     },
     "execution_count": 11,
     "metadata": {},
     "output_type": "execute_result"
    }
   ],
   "source": [
    "df_copy.head()"
   ]
  },
  {
   "cell_type": "code",
   "execution_count": 12,
   "id": "1f21cff4",
   "metadata": {},
   "outputs": [
    {
     "name": "stdout",
     "output_type": "stream",
     "text": [
      "<class 'pandas.core.frame.DataFrame'>\n",
      "RangeIndex: 786363 entries, 0 to 786362\n",
      "Data columns (total 40 columns):\n",
      " #   Column                    Non-Null Count   Dtype  \n",
      "---  ------                    --------------   -----  \n",
      " 0   accountNumber             786363 non-null  object \n",
      " 1   customerId                786363 non-null  object \n",
      " 2   creditLimit               786363 non-null  float64\n",
      " 3   availableMoney            786363 non-null  float64\n",
      " 4   transactionDateTime       786363 non-null  object \n",
      " 5   transactionAmount         786363 non-null  float64\n",
      " 6   merchantName              786363 non-null  object \n",
      " 7   acqCountry                786363 non-null  object \n",
      " 8   merchantCountryCode       786363 non-null  object \n",
      " 9   posEntryMode              786363 non-null  object \n",
      " 10  posConditionCode          786363 non-null  object \n",
      " 11  merchantCategoryCode      786363 non-null  object \n",
      " 12  currentExpDate            786363 non-null  object \n",
      " 13  accountOpenDate           786363 non-null  object \n",
      " 14  dateOfLastAddressChange   786363 non-null  object \n",
      " 15  cardCVV                   786363 non-null  object \n",
      " 16  enteredCVV                786363 non-null  object \n",
      " 17  cardLast4Digits           786363 non-null  object \n",
      " 18  transactionType           786363 non-null  object \n",
      " 19  echoBuffer                786363 non-null  object \n",
      " 20  currentBalance            786363 non-null  float64\n",
      " 21  merchantCity              786363 non-null  object \n",
      " 22  merchantState             786363 non-null  object \n",
      " 23  merchantZip               786363 non-null  object \n",
      " 24  cardPresent               786363 non-null  bool   \n",
      " 25  posOnPremises             786363 non-null  object \n",
      " 26  recurringAuthInd          786363 non-null  object \n",
      " 27  expirationDateKeyInMatch  786363 non-null  bool   \n",
      " 28  isFraud                   786363 non-null  bool   \n",
      " 29  transactionDate           786363 non-null  object \n",
      " 30  transactionTime           786363 non-null  object \n",
      " 31  currentExpMonth           786363 non-null  object \n",
      " 32  currentExpYear            786363 non-null  object \n",
      " 33  accountOpenMonth          786363 non-null  object \n",
      " 34  accountOpenYear           786363 non-null  object \n",
      " 35  MonthOfLastAddressChange  786363 non-null  object \n",
      " 36  YearOfLastAddressChange   786363 non-null  object \n",
      " 37  DateOfLastAddressChange   786363 non-null  object \n",
      " 38  transactionMonth          786363 non-null  object \n",
      " 39  transactionHour           786363 non-null  object \n",
      "dtypes: bool(3), float64(4), object(33)\n",
      "memory usage: 224.2+ MB\n"
     ]
    }
   ],
   "source": [
    "df_copy.info()"
   ]
  },
  {
   "cell_type": "code",
   "execution_count": 13,
   "id": "49af6566",
   "metadata": {},
   "outputs": [
    {
     "data": {
      "text/plain": [
       "accountNumber               0\n",
       "customerId                  0\n",
       "creditLimit                 0\n",
       "availableMoney              0\n",
       "transactionDateTime         0\n",
       "transactionAmount           0\n",
       "merchantName                0\n",
       "acqCountry                  0\n",
       "merchantCountryCode         0\n",
       "posEntryMode                0\n",
       "posConditionCode            0\n",
       "merchantCategoryCode        0\n",
       "currentExpDate              0\n",
       "accountOpenDate             0\n",
       "dateOfLastAddressChange     0\n",
       "cardCVV                     0\n",
       "enteredCVV                  0\n",
       "cardLast4Digits             0\n",
       "transactionType             0\n",
       "echoBuffer                  0\n",
       "currentBalance              0\n",
       "merchantCity                0\n",
       "merchantState               0\n",
       "merchantZip                 0\n",
       "cardPresent                 0\n",
       "posOnPremises               0\n",
       "recurringAuthInd            0\n",
       "expirationDateKeyInMatch    0\n",
       "isFraud                     0\n",
       "transactionDate             0\n",
       "transactionTime             0\n",
       "currentExpMonth             0\n",
       "currentExpYear              0\n",
       "accountOpenMonth            0\n",
       "accountOpenYear             0\n",
       "MonthOfLastAddressChange    0\n",
       "YearOfLastAddressChange     0\n",
       "DateOfLastAddressChange     0\n",
       "transactionMonth            0\n",
       "transactionHour             0\n",
       "dtype: int64"
      ]
     },
     "execution_count": 13,
     "metadata": {},
     "output_type": "execute_result"
    }
   ],
   "source": [
    "df_copy.isnull().sum()"
   ]
  },
  {
   "cell_type": "code",
   "execution_count": 14,
   "id": "c35600b2",
   "metadata": {},
   "outputs": [
    {
     "data": {
      "text/plain": [
       "True"
      ]
     },
     "execution_count": 14,
     "metadata": {},
     "output_type": "execute_result"
    }
   ],
   "source": [
    "(df_copy.customerId == df_copy.accountNumber).all()"
   ]
  },
  {
   "cell_type": "code",
   "execution_count": 15,
   "id": "2dbfe72a",
   "metadata": {},
   "outputs": [],
   "source": [
    "df_copy.drop(['customerId',\n",
    "              'transactionTime',\n",
    "              'transactionDate',\n",
    "              'dateOfLastAddressChange',\n",
    "              'accountOpenDate',\n",
    "              'currentExpDate',\n",
    "              'transactionDateTime',\n",
    "              'echoBuffer',\n",
    "              'merchantCity',\n",
    "              'merchantState',\n",
    "              'merchantZip',\n",
    "              'posOnPremises',\n",
    "              'recurringAuthInd'],\n",
    "             axis=1,inplace = True)"
   ]
  },
  {
   "cell_type": "code",
   "execution_count": 16,
   "id": "b9344478",
   "metadata": {},
   "outputs": [],
   "source": [
    "df_copy.replace('',np.nan,inplace=True)"
   ]
  },
  {
   "cell_type": "code",
   "execution_count": 17,
   "id": "cf685d75",
   "metadata": {},
   "outputs": [
    {
     "data": {
      "text/plain": [
       "accountNumber                  0\n",
       "creditLimit                    0\n",
       "availableMoney                 0\n",
       "transactionAmount              0\n",
       "merchantName                   0\n",
       "acqCountry                  4562\n",
       "merchantCountryCode          724\n",
       "posEntryMode                4054\n",
       "posConditionCode             409\n",
       "merchantCategoryCode           0\n",
       "cardCVV                        0\n",
       "enteredCVV                     0\n",
       "cardLast4Digits                0\n",
       "transactionType              698\n",
       "currentBalance                 0\n",
       "cardPresent                    0\n",
       "expirationDateKeyInMatch       0\n",
       "isFraud                        0\n",
       "currentExpMonth                0\n",
       "currentExpYear                 0\n",
       "accountOpenMonth               0\n",
       "accountOpenYear                0\n",
       "MonthOfLastAddressChange       0\n",
       "YearOfLastAddressChange        0\n",
       "DateOfLastAddressChange        0\n",
       "transactionMonth               0\n",
       "transactionHour                0\n",
       "dtype: int64"
      ]
     },
     "execution_count": 17,
     "metadata": {},
     "output_type": "execute_result"
    }
   ],
   "source": [
    "df_copy.isnull().sum()"
   ]
  },
  {
   "cell_type": "code",
   "execution_count": 18,
   "id": "6218fe55",
   "metadata": {},
   "outputs": [],
   "source": [
    "for i in df_copy.columns[df_copy.dtypes == object]:\n",
    "    df_copy[i] = df_copy[i].str.strip()"
   ]
  },
  {
   "cell_type": "code",
   "execution_count": 19,
   "id": "0b763a55",
   "metadata": {},
   "outputs": [],
   "source": [
    "#assigning each features with appropriate data type\n",
    "df_copy = df_copy.astype({'accountNumber':'float',\n",
    "                          'creditLimit':'float',\n",
    "                          'availableMoney':'float',\n",
    "                          'transactionAmount':'float',\n",
    "                          'merchantName':'object',\n",
    "                          'acqCountry':'object',\n",
    "                          'merchantCountryCode':'object',\n",
    "                          'posEntryMode':'float',\n",
    "                          'posConditionCode':'float',\n",
    "                          'merchantCategoryCode':'object',\n",
    "                          'cardCVV':'float',\n",
    "                          'enteredCVV':'float',\n",
    "                          'cardLast4Digits':'float',\n",
    "                          'transactionType':'object',\n",
    "                          'currentBalance':'float',\n",
    "                          'cardPresent':'object',\n",
    "                          'expirationDateKeyInMatch':'object',\n",
    "                          'isFraud':'object',\n",
    "                          'currentExpMonth':'float',\n",
    "                          'currentExpYear':'float',\n",
    "                          'accountOpenMonth':'float',\n",
    "                          'accountOpenYear':'float',\n",
    "                          'MonthOfLastAddressChange':'float',\n",
    "                          'YearOfLastAddressChange':'float',\n",
    "                          'DateOfLastAddressChange':'float',\n",
    "                          'transactionMonth':'float',\n",
    "                          'transactionHour':'float'\n",
    "                         }).astype({'accountNumber':'Int32',\n",
    "                                    'posEntryMode':'Int32',\n",
    "                                    'posConditionCode':'Int32',\n",
    "                                    'cardCVV':'Int32',\n",
    "                                    'enteredCVV':'Int32',\n",
    "                                    'cardLast4Digits':'Int32',\n",
    "                                    'currentExpMonth':'Int32',\n",
    "                                    'currentExpYear':'Int32',\n",
    "                                    'accountOpenMonth':'Int32',\n",
    "                                    'accountOpenYear':'Int32','MonthOfLastAddressChange':'Int32',\n",
    "                                    'YearOfLastAddressChange':'Int32',\n",
    "                                    'DateOfLastAddressChange':'Int32',\n",
    "                                    'transactionMonth':'Int32',\n",
    "                                    'transactionHour':'Int32'})"
   ]
  },
  {
   "cell_type": "code",
   "execution_count": 20,
   "id": "ceeb6442",
   "metadata": {},
   "outputs": [
    {
     "data": {
      "text/plain": [
       "accountNumber                 Int32\n",
       "creditLimit                 float64\n",
       "availableMoney              float64\n",
       "transactionAmount           float64\n",
       "merchantName                 object\n",
       "acqCountry                   object\n",
       "merchantCountryCode          object\n",
       "posEntryMode                  Int32\n",
       "posConditionCode              Int32\n",
       "merchantCategoryCode         object\n",
       "cardCVV                       Int32\n",
       "enteredCVV                    Int32\n",
       "cardLast4Digits               Int32\n",
       "transactionType              object\n",
       "currentBalance              float64\n",
       "cardPresent                  object\n",
       "expirationDateKeyInMatch     object\n",
       "isFraud                      object\n",
       "currentExpMonth               Int32\n",
       "currentExpYear                Int32\n",
       "accountOpenMonth              Int32\n",
       "accountOpenYear               Int32\n",
       "MonthOfLastAddressChange      Int32\n",
       "YearOfLastAddressChange       Int32\n",
       "DateOfLastAddressChange       Int32\n",
       "transactionMonth              Int32\n",
       "transactionHour               Int32\n",
       "dtype: object"
      ]
     },
     "execution_count": 20,
     "metadata": {},
     "output_type": "execute_result"
    }
   ],
   "source": [
    "df_copy.dtypes"
   ]
  },
  {
   "cell_type": "code",
   "execution_count": 21,
   "id": "5d666493",
   "metadata": {},
   "outputs": [
    {
     "data": {
      "text/html": [
       "<div>\n",
       "<style scoped>\n",
       "    .dataframe tbody tr th:only-of-type {\n",
       "        vertical-align: middle;\n",
       "    }\n",
       "\n",
       "    .dataframe tbody tr th {\n",
       "        vertical-align: top;\n",
       "    }\n",
       "\n",
       "    .dataframe thead th {\n",
       "        text-align: right;\n",
       "    }\n",
       "</style>\n",
       "<table border=\"1\" class=\"dataframe\">\n",
       "  <thead>\n",
       "    <tr style=\"text-align: right;\">\n",
       "      <th></th>\n",
       "      <th>accountNumber</th>\n",
       "      <th>creditLimit</th>\n",
       "      <th>availableMoney</th>\n",
       "      <th>transactionAmount</th>\n",
       "      <th>merchantName</th>\n",
       "      <th>acqCountry</th>\n",
       "      <th>merchantCountryCode</th>\n",
       "      <th>posEntryMode</th>\n",
       "      <th>posConditionCode</th>\n",
       "      <th>merchantCategoryCode</th>\n",
       "      <th>...</th>\n",
       "      <th>isFraud</th>\n",
       "      <th>currentExpMonth</th>\n",
       "      <th>currentExpYear</th>\n",
       "      <th>accountOpenMonth</th>\n",
       "      <th>accountOpenYear</th>\n",
       "      <th>MonthOfLastAddressChange</th>\n",
       "      <th>YearOfLastAddressChange</th>\n",
       "      <th>DateOfLastAddressChange</th>\n",
       "      <th>transactionMonth</th>\n",
       "      <th>transactionHour</th>\n",
       "    </tr>\n",
       "  </thead>\n",
       "  <tbody>\n",
       "    <tr>\n",
       "      <th>count</th>\n",
       "      <td>7.863630e+05</td>\n",
       "      <td>786363.000000</td>\n",
       "      <td>786363.000000</td>\n",
       "      <td>786363.000000</td>\n",
       "      <td>786363</td>\n",
       "      <td>781801</td>\n",
       "      <td>785639</td>\n",
       "      <td>782309.000000</td>\n",
       "      <td>785954.000000</td>\n",
       "      <td>786363</td>\n",
       "      <td>...</td>\n",
       "      <td>786363</td>\n",
       "      <td>786363.000000</td>\n",
       "      <td>786363.000000</td>\n",
       "      <td>786363.000000</td>\n",
       "      <td>786363.000000</td>\n",
       "      <td>786363.000000</td>\n",
       "      <td>786363.000000</td>\n",
       "      <td>786363.000000</td>\n",
       "      <td>786363.000000</td>\n",
       "      <td>786363.000000</td>\n",
       "    </tr>\n",
       "    <tr>\n",
       "      <th>unique</th>\n",
       "      <td>NaN</td>\n",
       "      <td>NaN</td>\n",
       "      <td>NaN</td>\n",
       "      <td>NaN</td>\n",
       "      <td>205</td>\n",
       "      <td>4</td>\n",
       "      <td>4</td>\n",
       "      <td>NaN</td>\n",
       "      <td>NaN</td>\n",
       "      <td>19</td>\n",
       "      <td>...</td>\n",
       "      <td>2</td>\n",
       "      <td>NaN</td>\n",
       "      <td>NaN</td>\n",
       "      <td>NaN</td>\n",
       "      <td>NaN</td>\n",
       "      <td>NaN</td>\n",
       "      <td>NaN</td>\n",
       "      <td>NaN</td>\n",
       "      <td>NaN</td>\n",
       "      <td>NaN</td>\n",
       "    </tr>\n",
       "    <tr>\n",
       "      <th>top</th>\n",
       "      <td>NaN</td>\n",
       "      <td>NaN</td>\n",
       "      <td>NaN</td>\n",
       "      <td>NaN</td>\n",
       "      <td>AMC</td>\n",
       "      <td>US</td>\n",
       "      <td>US</td>\n",
       "      <td>NaN</td>\n",
       "      <td>NaN</td>\n",
       "      <td>online_retail</td>\n",
       "      <td>...</td>\n",
       "      <td>False</td>\n",
       "      <td>NaN</td>\n",
       "      <td>NaN</td>\n",
       "      <td>NaN</td>\n",
       "      <td>NaN</td>\n",
       "      <td>NaN</td>\n",
       "      <td>NaN</td>\n",
       "      <td>NaN</td>\n",
       "      <td>NaN</td>\n",
       "      <td>NaN</td>\n",
       "    </tr>\n",
       "    <tr>\n",
       "      <th>freq</th>\n",
       "      <td>NaN</td>\n",
       "      <td>NaN</td>\n",
       "      <td>NaN</td>\n",
       "      <td>NaN</td>\n",
       "      <td>37942</td>\n",
       "      <td>774709</td>\n",
       "      <td>778511</td>\n",
       "      <td>NaN</td>\n",
       "      <td>NaN</td>\n",
       "      <td>202156</td>\n",
       "      <td>...</td>\n",
       "      <td>773946</td>\n",
       "      <td>NaN</td>\n",
       "      <td>NaN</td>\n",
       "      <td>NaN</td>\n",
       "      <td>NaN</td>\n",
       "      <td>NaN</td>\n",
       "      <td>NaN</td>\n",
       "      <td>NaN</td>\n",
       "      <td>NaN</td>\n",
       "      <td>NaN</td>\n",
       "    </tr>\n",
       "    <tr>\n",
       "      <th>mean</th>\n",
       "      <td>5.372326e+08</td>\n",
       "      <td>10759.464459</td>\n",
       "      <td>6250.725369</td>\n",
       "      <td>136.985791</td>\n",
       "      <td>NaN</td>\n",
       "      <td>NaN</td>\n",
       "      <td>NaN</td>\n",
       "      <td>9.049943</td>\n",
       "      <td>3.271980</td>\n",
       "      <td>NaN</td>\n",
       "      <td>...</td>\n",
       "      <td>NaN</td>\n",
       "      <td>6.446471</td>\n",
       "      <td>2026.282087</td>\n",
       "      <td>7.043133</td>\n",
       "      <td>2013.548618</td>\n",
       "      <td>6.286028</td>\n",
       "      <td>2014.804087</td>\n",
       "      <td>15.476674</td>\n",
       "      <td>6.648343</td>\n",
       "      <td>11.511333</td>\n",
       "    </tr>\n",
       "    <tr>\n",
       "      <th>std</th>\n",
       "      <td>2.554211e+08</td>\n",
       "      <td>11636.174890</td>\n",
       "      <td>8880.783989</td>\n",
       "      <td>147.725569</td>\n",
       "      <td>NaN</td>\n",
       "      <td>NaN</td>\n",
       "      <td>NaN</td>\n",
       "      <td>16.774130</td>\n",
       "      <td>9.809023</td>\n",
       "      <td>NaN</td>\n",
       "      <td>...</td>\n",
       "      <td>NaN</td>\n",
       "      <td>3.446706</td>\n",
       "      <td>3.958592</td>\n",
       "      <td>3.378144</td>\n",
       "      <td>1.872314</td>\n",
       "      <td>3.373176</td>\n",
       "      <td>1.881635</td>\n",
       "      <td>8.591262</td>\n",
       "      <td>3.436256</td>\n",
       "      <td>6.921098</td>\n",
       "    </tr>\n",
       "    <tr>\n",
       "      <th>min</th>\n",
       "      <td>1.000881e+08</td>\n",
       "      <td>250.000000</td>\n",
       "      <td>-1005.630000</td>\n",
       "      <td>0.000000</td>\n",
       "      <td>NaN</td>\n",
       "      <td>NaN</td>\n",
       "      <td>NaN</td>\n",
       "      <td>2.000000</td>\n",
       "      <td>1.000000</td>\n",
       "      <td>NaN</td>\n",
       "      <td>...</td>\n",
       "      <td>NaN</td>\n",
       "      <td>1.000000</td>\n",
       "      <td>2019.000000</td>\n",
       "      <td>1.000000</td>\n",
       "      <td>1989.000000</td>\n",
       "      <td>1.000000</td>\n",
       "      <td>1989.000000</td>\n",
       "      <td>1.000000</td>\n",
       "      <td>1.000000</td>\n",
       "      <td>0.000000</td>\n",
       "    </tr>\n",
       "    <tr>\n",
       "      <th>25%</th>\n",
       "      <td>3.301333e+08</td>\n",
       "      <td>5000.000000</td>\n",
       "      <td>1077.420000</td>\n",
       "      <td>33.650000</td>\n",
       "      <td>NaN</td>\n",
       "      <td>NaN</td>\n",
       "      <td>NaN</td>\n",
       "      <td>2.000000</td>\n",
       "      <td>1.000000</td>\n",
       "      <td>NaN</td>\n",
       "      <td>...</td>\n",
       "      <td>NaN</td>\n",
       "      <td>3.000000</td>\n",
       "      <td>2023.000000</td>\n",
       "      <td>4.000000</td>\n",
       "      <td>2013.000000</td>\n",
       "      <td>3.000000</td>\n",
       "      <td>2014.000000</td>\n",
       "      <td>8.000000</td>\n",
       "      <td>4.000000</td>\n",
       "      <td>6.000000</td>\n",
       "    </tr>\n",
       "    <tr>\n",
       "      <th>50%</th>\n",
       "      <td>5.074561e+08</td>\n",
       "      <td>7500.000000</td>\n",
       "      <td>3184.860000</td>\n",
       "      <td>87.900000</td>\n",
       "      <td>NaN</td>\n",
       "      <td>NaN</td>\n",
       "      <td>NaN</td>\n",
       "      <td>5.000000</td>\n",
       "      <td>1.000000</td>\n",
       "      <td>NaN</td>\n",
       "      <td>...</td>\n",
       "      <td>NaN</td>\n",
       "      <td>6.000000</td>\n",
       "      <td>2026.000000</td>\n",
       "      <td>7.000000</td>\n",
       "      <td>2014.000000</td>\n",
       "      <td>6.000000</td>\n",
       "      <td>2016.000000</td>\n",
       "      <td>15.000000</td>\n",
       "      <td>7.000000</td>\n",
       "      <td>12.000000</td>\n",
       "    </tr>\n",
       "    <tr>\n",
       "      <th>75%</th>\n",
       "      <td>7.676200e+08</td>\n",
       "      <td>15000.000000</td>\n",
       "      <td>7500.000000</td>\n",
       "      <td>191.480000</td>\n",
       "      <td>NaN</td>\n",
       "      <td>NaN</td>\n",
       "      <td>NaN</td>\n",
       "      <td>9.000000</td>\n",
       "      <td>1.000000</td>\n",
       "      <td>NaN</td>\n",
       "      <td>...</td>\n",
       "      <td>NaN</td>\n",
       "      <td>9.000000</td>\n",
       "      <td>2030.000000</td>\n",
       "      <td>10.000000</td>\n",
       "      <td>2015.000000</td>\n",
       "      <td>9.000000</td>\n",
       "      <td>2016.000000</td>\n",
       "      <td>23.000000</td>\n",
       "      <td>10.000000</td>\n",
       "      <td>18.000000</td>\n",
       "    </tr>\n",
       "    <tr>\n",
       "      <th>max</th>\n",
       "      <td>9.993896e+08</td>\n",
       "      <td>50000.000000</td>\n",
       "      <td>50000.000000</td>\n",
       "      <td>2011.540000</td>\n",
       "      <td>NaN</td>\n",
       "      <td>NaN</td>\n",
       "      <td>NaN</td>\n",
       "      <td>90.000000</td>\n",
       "      <td>99.000000</td>\n",
       "      <td>NaN</td>\n",
       "      <td>...</td>\n",
       "      <td>NaN</td>\n",
       "      <td>12.000000</td>\n",
       "      <td>2033.000000</td>\n",
       "      <td>12.000000</td>\n",
       "      <td>2015.000000</td>\n",
       "      <td>12.000000</td>\n",
       "      <td>2016.000000</td>\n",
       "      <td>31.000000</td>\n",
       "      <td>12.000000</td>\n",
       "      <td>23.000000</td>\n",
       "    </tr>\n",
       "  </tbody>\n",
       "</table>\n",
       "<p>11 rows × 27 columns</p>\n",
       "</div>"
      ],
      "text/plain": [
       "        accountNumber    creditLimit  availableMoney  transactionAmount  \\\n",
       "count    7.863630e+05  786363.000000   786363.000000      786363.000000   \n",
       "unique            NaN            NaN             NaN                NaN   \n",
       "top               NaN            NaN             NaN                NaN   \n",
       "freq              NaN            NaN             NaN                NaN   \n",
       "mean     5.372326e+08   10759.464459     6250.725369         136.985791   \n",
       "std      2.554211e+08   11636.174890     8880.783989         147.725569   \n",
       "min      1.000881e+08     250.000000    -1005.630000           0.000000   \n",
       "25%      3.301333e+08    5000.000000     1077.420000          33.650000   \n",
       "50%      5.074561e+08    7500.000000     3184.860000          87.900000   \n",
       "75%      7.676200e+08   15000.000000     7500.000000         191.480000   \n",
       "max      9.993896e+08   50000.000000    50000.000000        2011.540000   \n",
       "\n",
       "       merchantName acqCountry merchantCountryCode   posEntryMode  \\\n",
       "count        786363     781801              785639  782309.000000   \n",
       "unique          205          4                   4            NaN   \n",
       "top             AMC         US                  US            NaN   \n",
       "freq          37942     774709              778511            NaN   \n",
       "mean            NaN        NaN                 NaN       9.049943   \n",
       "std             NaN        NaN                 NaN      16.774130   \n",
       "min             NaN        NaN                 NaN       2.000000   \n",
       "25%             NaN        NaN                 NaN       2.000000   \n",
       "50%             NaN        NaN                 NaN       5.000000   \n",
       "75%             NaN        NaN                 NaN       9.000000   \n",
       "max             NaN        NaN                 NaN      90.000000   \n",
       "\n",
       "        posConditionCode merchantCategoryCode  ...  isFraud  currentExpMonth  \\\n",
       "count      785954.000000               786363  ...   786363    786363.000000   \n",
       "unique               NaN                   19  ...        2              NaN   \n",
       "top                  NaN        online_retail  ...    False              NaN   \n",
       "freq                 NaN               202156  ...   773946              NaN   \n",
       "mean            3.271980                  NaN  ...      NaN         6.446471   \n",
       "std             9.809023                  NaN  ...      NaN         3.446706   \n",
       "min             1.000000                  NaN  ...      NaN         1.000000   \n",
       "25%             1.000000                  NaN  ...      NaN         3.000000   \n",
       "50%             1.000000                  NaN  ...      NaN         6.000000   \n",
       "75%             1.000000                  NaN  ...      NaN         9.000000   \n",
       "max            99.000000                  NaN  ...      NaN        12.000000   \n",
       "\n",
       "        currentExpYear accountOpenMonth  accountOpenYear  \\\n",
       "count    786363.000000    786363.000000    786363.000000   \n",
       "unique             NaN              NaN              NaN   \n",
       "top                NaN              NaN              NaN   \n",
       "freq               NaN              NaN              NaN   \n",
       "mean       2026.282087         7.043133      2013.548618   \n",
       "std           3.958592         3.378144         1.872314   \n",
       "min        2019.000000         1.000000      1989.000000   \n",
       "25%        2023.000000         4.000000      2013.000000   \n",
       "50%        2026.000000         7.000000      2014.000000   \n",
       "75%        2030.000000        10.000000      2015.000000   \n",
       "max        2033.000000        12.000000      2015.000000   \n",
       "\n",
       "       MonthOfLastAddressChange YearOfLastAddressChange  \\\n",
       "count             786363.000000           786363.000000   \n",
       "unique                      NaN                     NaN   \n",
       "top                         NaN                     NaN   \n",
       "freq                        NaN                     NaN   \n",
       "mean                   6.286028             2014.804087   \n",
       "std                    3.373176                1.881635   \n",
       "min                    1.000000             1989.000000   \n",
       "25%                    3.000000             2014.000000   \n",
       "50%                    6.000000             2016.000000   \n",
       "75%                    9.000000             2016.000000   \n",
       "max                   12.000000             2016.000000   \n",
       "\n",
       "       DateOfLastAddressChange  transactionMonth  transactionHour  \n",
       "count            786363.000000     786363.000000    786363.000000  \n",
       "unique                     NaN               NaN              NaN  \n",
       "top                        NaN               NaN              NaN  \n",
       "freq                       NaN               NaN              NaN  \n",
       "mean                 15.476674          6.648343        11.511333  \n",
       "std                   8.591262          3.436256         6.921098  \n",
       "min                   1.000000          1.000000         0.000000  \n",
       "25%                   8.000000          4.000000         6.000000  \n",
       "50%                  15.000000          7.000000        12.000000  \n",
       "75%                  23.000000         10.000000        18.000000  \n",
       "max                  31.000000         12.000000        23.000000  \n",
       "\n",
       "[11 rows x 27 columns]"
      ]
     },
     "execution_count": 21,
     "metadata": {},
     "output_type": "execute_result"
    }
   ],
   "source": [
    "df_copy.describe(include='all')"
   ]
  },
  {
   "cell_type": "markdown",
   "id": "a9cd4a4f",
   "metadata": {},
   "source": [
    "##  Visualization"
   ]
  },
  {
   "cell_type": "code",
   "execution_count": 22,
   "id": "24fb455d",
   "metadata": {},
   "outputs": [],
   "source": [
    "mask = df_copy.dtypes == object\n",
    "numerical_column = list(df_copy.columns[~ mask])\n",
    "categorical_column = list(df_copy.columns[mask])"
   ]
  },
  {
   "cell_type": "code",
   "execution_count": 23,
   "id": "7baec789",
   "metadata": {},
   "outputs": [],
   "source": [
    "df_copy['isFraud'] = df_copy['isFraud'].replace([True,False],[1,0])"
   ]
  },
  {
   "cell_type": "code",
   "execution_count": 24,
   "id": "c65171d9",
   "metadata": {},
   "outputs": [],
   "source": [
    "feature_columns = df_copy.corr(method='spearman')['isFraud'].abs().sort_values(ascending=False)>0.005\n",
    "feature_columns = list(feature_columns.index[feature_columns])"
   ]
  },
  {
   "cell_type": "code",
   "execution_count": 25,
   "id": "e503aab3",
   "metadata": {},
   "outputs": [],
   "source": [
    "n_i=SimpleImputer(strategy='mean')\n",
    "c_i=SimpleImputer(strategy='constant',fill_value='Unknown')\n",
    "\n",
    "df_copy[numerical_column] = n_i.fit_transform(df_copy[numerical_column])\n",
    "df_copy[categorical_column] = c_i.fit_transform(df_copy[categorical_column])"
   ]
  },
  {
   "cell_type": "code",
   "execution_count": 26,
   "id": "68d5a0a0",
   "metadata": {},
   "outputs": [
    {
     "data": {
      "text/html": [
       "<div>\n",
       "<style scoped>\n",
       "    .dataframe tbody tr th:only-of-type {\n",
       "        vertical-align: middle;\n",
       "    }\n",
       "\n",
       "    .dataframe tbody tr th {\n",
       "        vertical-align: top;\n",
       "    }\n",
       "\n",
       "    .dataframe thead th {\n",
       "        text-align: right;\n",
       "    }\n",
       "</style>\n",
       "<table border=\"1\" class=\"dataframe\">\n",
       "  <thead>\n",
       "    <tr style=\"text-align: right;\">\n",
       "      <th></th>\n",
       "      <th>variables</th>\n",
       "      <th>VIF</th>\n",
       "    </tr>\n",
       "  </thead>\n",
       "  <tbody>\n",
       "    <tr>\n",
       "      <th>0</th>\n",
       "      <td>isFraud</td>\n",
       "      <td>1.022315</td>\n",
       "    </tr>\n",
       "    <tr>\n",
       "      <th>1</th>\n",
       "      <td>transactionAmount</td>\n",
       "      <td>1.873426</td>\n",
       "    </tr>\n",
       "    <tr>\n",
       "      <th>2</th>\n",
       "      <td>posEntryMode</td>\n",
       "      <td>1.292687</td>\n",
       "    </tr>\n",
       "    <tr>\n",
       "      <th>3</th>\n",
       "      <td>accountOpenMonth</td>\n",
       "      <td>5.358872</td>\n",
       "    </tr>\n",
       "    <tr>\n",
       "      <th>4</th>\n",
       "      <td>enteredCVV</td>\n",
       "      <td>668.764316</td>\n",
       "    </tr>\n",
       "    <tr>\n",
       "      <th>5</th>\n",
       "      <td>cardCVV</td>\n",
       "      <td>669.438198</td>\n",
       "    </tr>\n",
       "    <tr>\n",
       "      <th>6</th>\n",
       "      <td>currentBalance</td>\n",
       "      <td>1.501609</td>\n",
       "    </tr>\n",
       "    <tr>\n",
       "      <th>7</th>\n",
       "      <td>YearOfLastAddressChange</td>\n",
       "      <td>15.234312</td>\n",
       "    </tr>\n",
       "    <tr>\n",
       "      <th>8</th>\n",
       "      <td>posConditionCode</td>\n",
       "      <td>1.111404</td>\n",
       "    </tr>\n",
       "    <tr>\n",
       "      <th>9</th>\n",
       "      <td>transactionMonth</td>\n",
       "      <td>4.762966</td>\n",
       "    </tr>\n",
       "  </tbody>\n",
       "</table>\n",
       "</div>"
      ],
      "text/plain": [
       "                 variables         VIF\n",
       "0                  isFraud    1.022315\n",
       "1        transactionAmount    1.873426\n",
       "2             posEntryMode    1.292687\n",
       "3         accountOpenMonth    5.358872\n",
       "4               enteredCVV  668.764316\n",
       "5                  cardCVV  669.438198\n",
       "6           currentBalance    1.501609\n",
       "7  YearOfLastAddressChange   15.234312\n",
       "8         posConditionCode    1.111404\n",
       "9         transactionMonth    4.762966"
      ]
     },
     "execution_count": 26,
     "metadata": {},
     "output_type": "execute_result"
    }
   ],
   "source": [
    "def calc_vif(X):\n",
    "\n",
    "    # Calculating VIF\n",
    "    vif = pd.DataFrame()\n",
    "    vif[\"variables\"] = X.columns\n",
    "    vif[\"VIF\"] = [variance_inflation_factor(X.values, i) for i in range(X.shape[1])]\n",
    "\n",
    "    return(vif)\n",
    "calc_vif(df_copy[feature_columns].iloc[:,:-1])"
   ]
  },
  {
   "cell_type": "markdown",
   "id": "e11601ba",
   "metadata": {},
   "source": [
    "This data frame shows that enterdCVV and cardCVV canbe predicted with other features, and same for YearOfLastAddressChange.\n",
    "\n",
    "This shows multicollinearity between variables"
   ]
  },
  {
   "cell_type": "code",
   "execution_count": 27,
   "id": "5f070502",
   "metadata": {},
   "outputs": [],
   "source": [
    "feature_columns.remove('isFraud')\n",
    "feature_columns.remove('cardCVV')\n",
    "feature_columns.remove('YearOfLastAddressChange')"
   ]
  },
  {
   "cell_type": "code",
   "execution_count": 28,
   "id": "a2a628c8",
   "metadata": {},
   "outputs": [
    {
     "data": {
      "text/html": [
       "<div>\n",
       "<style scoped>\n",
       "    .dataframe tbody tr th:only-of-type {\n",
       "        vertical-align: middle;\n",
       "    }\n",
       "\n",
       "    .dataframe tbody tr th {\n",
       "        vertical-align: top;\n",
       "    }\n",
       "\n",
       "    .dataframe thead th {\n",
       "        text-align: right;\n",
       "    }\n",
       "</style>\n",
       "<table border=\"1\" class=\"dataframe\">\n",
       "  <thead>\n",
       "    <tr style=\"text-align: right;\">\n",
       "      <th></th>\n",
       "      <th>variables</th>\n",
       "      <th>VIF</th>\n",
       "    </tr>\n",
       "  </thead>\n",
       "  <tbody>\n",
       "    <tr>\n",
       "      <th>0</th>\n",
       "      <td>transactionAmount</td>\n",
       "      <td>1.745895</td>\n",
       "    </tr>\n",
       "    <tr>\n",
       "      <th>1</th>\n",
       "      <td>posEntryMode</td>\n",
       "      <td>1.267599</td>\n",
       "    </tr>\n",
       "    <tr>\n",
       "      <th>2</th>\n",
       "      <td>accountOpenMonth</td>\n",
       "      <td>3.747410</td>\n",
       "    </tr>\n",
       "    <tr>\n",
       "      <th>3</th>\n",
       "      <td>enteredCVV</td>\n",
       "      <td>3.780841</td>\n",
       "    </tr>\n",
       "    <tr>\n",
       "      <th>4</th>\n",
       "      <td>currentBalance</td>\n",
       "      <td>1.488647</td>\n",
       "    </tr>\n",
       "    <tr>\n",
       "      <th>5</th>\n",
       "      <td>posConditionCode</td>\n",
       "      <td>1.102986</td>\n",
       "    </tr>\n",
       "    <tr>\n",
       "      <th>6</th>\n",
       "      <td>transactionMonth</td>\n",
       "      <td>3.581297</td>\n",
       "    </tr>\n",
       "  </tbody>\n",
       "</table>\n",
       "</div>"
      ],
      "text/plain": [
       "           variables       VIF\n",
       "0  transactionAmount  1.745895\n",
       "1       posEntryMode  1.267599\n",
       "2   accountOpenMonth  3.747410\n",
       "3         enteredCVV  3.780841\n",
       "4     currentBalance  1.488647\n",
       "5   posConditionCode  1.102986\n",
       "6   transactionMonth  3.581297"
      ]
     },
     "execution_count": 28,
     "metadata": {},
     "output_type": "execute_result"
    }
   ],
   "source": [
    "calc_vif(df_copy[feature_columns].iloc[:,:-1])"
   ]
  },
  {
   "cell_type": "code",
   "execution_count": 29,
   "id": "78e5a77d",
   "metadata": {},
   "outputs": [],
   "source": [
    "df_copy['isFraud'] = df_copy['isFraud'].replace([1,0],[True,False])"
   ]
  },
  {
   "cell_type": "markdown",
   "id": "f0dc42a5",
   "metadata": {},
   "source": [
    "###  Categorical column"
   ]
  },
  {
   "cell_type": "code",
   "execution_count": 30,
   "id": "bb6cd184",
   "metadata": {},
   "outputs": [
    {
     "data": {
      "text/plain": [
       "['merchantName',\n",
       " 'acqCountry',\n",
       " 'merchantCountryCode',\n",
       " 'merchantCategoryCode',\n",
       " 'transactionType',\n",
       " 'cardPresent',\n",
       " 'expirationDateKeyInMatch',\n",
       " 'isFraud']"
      ]
     },
     "execution_count": 30,
     "metadata": {},
     "output_type": "execute_result"
    }
   ],
   "source": [
    "categorical_column"
   ]
  },
  {
   "cell_type": "code",
   "execution_count": 31,
   "id": "d90ab675",
   "metadata": {},
   "outputs": [
    {
     "data": {
      "text/html": [
       "<div>\n",
       "<style scoped>\n",
       "    .dataframe tbody tr th:only-of-type {\n",
       "        vertical-align: middle;\n",
       "    }\n",
       "\n",
       "    .dataframe tbody tr th {\n",
       "        vertical-align: top;\n",
       "    }\n",
       "\n",
       "    .dataframe thead th {\n",
       "        text-align: right;\n",
       "    }\n",
       "</style>\n",
       "<table border=\"1\" class=\"dataframe\">\n",
       "  <thead>\n",
       "    <tr style=\"text-align: right;\">\n",
       "      <th></th>\n",
       "      <th>merchantName</th>\n",
       "      <th>isFraud</th>\n",
       "      <th>count</th>\n",
       "    </tr>\n",
       "  </thead>\n",
       "  <tbody>\n",
       "    <tr>\n",
       "      <th>178</th>\n",
       "      <td>Lyft</td>\n",
       "      <td>True</td>\n",
       "      <td>760</td>\n",
       "    </tr>\n",
       "    <tr>\n",
       "      <th>353</th>\n",
       "      <td>ebay.com</td>\n",
       "      <td>True</td>\n",
       "      <td>639</td>\n",
       "    </tr>\n",
       "    <tr>\n",
       "      <th>145</th>\n",
       "      <td>Fresh Flowers</td>\n",
       "      <td>True</td>\n",
       "      <td>553</td>\n",
       "    </tr>\n",
       "    <tr>\n",
       "      <th>289</th>\n",
       "      <td>Uber</td>\n",
       "      <td>True</td>\n",
       "      <td>512</td>\n",
       "    </tr>\n",
       "    <tr>\n",
       "      <th>115</th>\n",
       "      <td>EZ Putt Putt</td>\n",
       "      <td>True</td>\n",
       "      <td>490</td>\n",
       "    </tr>\n",
       "    <tr>\n",
       "      <th>...</th>\n",
       "      <td>...</td>\n",
       "      <td>...</td>\n",
       "      <td>...</td>\n",
       "    </tr>\n",
       "    <tr>\n",
       "      <th>282</th>\n",
       "      <td>TMobile Wireless</td>\n",
       "      <td>False</td>\n",
       "      <td>66</td>\n",
       "    </tr>\n",
       "    <tr>\n",
       "      <th>304</th>\n",
       "      <td>Verizon Wireless</td>\n",
       "      <td>False</td>\n",
       "      <td>45</td>\n",
       "    </tr>\n",
       "    <tr>\n",
       "      <th>28</th>\n",
       "      <td>ATT</td>\n",
       "      <td>False</td>\n",
       "      <td>44</td>\n",
       "    </tr>\n",
       "    <tr>\n",
       "      <th>111</th>\n",
       "      <td>Duane Reed</td>\n",
       "      <td>False</td>\n",
       "      <td>28</td>\n",
       "    </tr>\n",
       "    <tr>\n",
       "      <th>194</th>\n",
       "      <td>My Fitness</td>\n",
       "      <td>False</td>\n",
       "      <td>7</td>\n",
       "    </tr>\n",
       "  </tbody>\n",
       "</table>\n",
       "<p>378 rows × 3 columns</p>\n",
       "</div>"
      ],
      "text/plain": [
       "         merchantName  isFraud  count\n",
       "178              Lyft     True    760\n",
       "353          ebay.com     True    639\n",
       "145     Fresh Flowers     True    553\n",
       "289              Uber     True    512\n",
       "115      EZ Putt Putt     True    490\n",
       "..                ...      ...    ...\n",
       "282  TMobile Wireless    False     66\n",
       "304  Verizon Wireless    False     45\n",
       "28                ATT    False     44\n",
       "111        Duane Reed    False     28\n",
       "194        My Fitness    False      7\n",
       "\n",
       "[378 rows x 3 columns]"
      ]
     },
     "execution_count": 31,
     "metadata": {},
     "output_type": "execute_result"
    }
   ],
   "source": [
    "pd.DataFrame(df_copy.groupby([categorical_column[0]])['isFraud']\n",
    "             .value_counts()).rename(columns={'isFraud':'count'}).reset_index().sort_values(['isFraud','count'],ascending=False)"
   ]
  },
  {
   "cell_type": "markdown",
   "id": "fd1d51eb",
   "metadata": {},
   "source": [
    "there are more frauds in Lyft than anyone else in the list and minimum for My Fitness"
   ]
  },
  {
   "cell_type": "code",
   "execution_count": 32,
   "id": "608e0e61",
   "metadata": {},
   "outputs": [
    {
     "data": {
      "text/html": [
       "<div>\n",
       "<style scoped>\n",
       "    .dataframe tbody tr th:only-of-type {\n",
       "        vertical-align: middle;\n",
       "    }\n",
       "\n",
       "    .dataframe tbody tr th {\n",
       "        vertical-align: top;\n",
       "    }\n",
       "\n",
       "    .dataframe thead th {\n",
       "        text-align: right;\n",
       "    }\n",
       "</style>\n",
       "<table border=\"1\" class=\"dataframe\">\n",
       "  <thead>\n",
       "    <tr style=\"text-align: right;\">\n",
       "      <th></th>\n",
       "      <th>acqCountry</th>\n",
       "      <th>isFraud</th>\n",
       "      <th>count</th>\n",
       "    </tr>\n",
       "  </thead>\n",
       "  <tbody>\n",
       "    <tr>\n",
       "      <th>7</th>\n",
       "      <td>US</td>\n",
       "      <td>True</td>\n",
       "      <td>12122</td>\n",
       "    </tr>\n",
       "    <tr>\n",
       "      <th>9</th>\n",
       "      <td>Unknown</td>\n",
       "      <td>True</td>\n",
       "      <td>149</td>\n",
       "    </tr>\n",
       "    <tr>\n",
       "      <th>3</th>\n",
       "      <td>MEX</td>\n",
       "      <td>True</td>\n",
       "      <td>64</td>\n",
       "    </tr>\n",
       "    <tr>\n",
       "      <th>1</th>\n",
       "      <td>CAN</td>\n",
       "      <td>True</td>\n",
       "      <td>55</td>\n",
       "    </tr>\n",
       "    <tr>\n",
       "      <th>5</th>\n",
       "      <td>PR</td>\n",
       "      <td>True</td>\n",
       "      <td>27</td>\n",
       "    </tr>\n",
       "    <tr>\n",
       "      <th>6</th>\n",
       "      <td>US</td>\n",
       "      <td>False</td>\n",
       "      <td>762587</td>\n",
       "    </tr>\n",
       "    <tr>\n",
       "      <th>8</th>\n",
       "      <td>Unknown</td>\n",
       "      <td>False</td>\n",
       "      <td>4413</td>\n",
       "    </tr>\n",
       "    <tr>\n",
       "      <th>2</th>\n",
       "      <td>MEX</td>\n",
       "      <td>False</td>\n",
       "      <td>3066</td>\n",
       "    </tr>\n",
       "    <tr>\n",
       "      <th>0</th>\n",
       "      <td>CAN</td>\n",
       "      <td>False</td>\n",
       "      <td>2369</td>\n",
       "    </tr>\n",
       "    <tr>\n",
       "      <th>4</th>\n",
       "      <td>PR</td>\n",
       "      <td>False</td>\n",
       "      <td>1511</td>\n",
       "    </tr>\n",
       "  </tbody>\n",
       "</table>\n",
       "</div>"
      ],
      "text/plain": [
       "  acqCountry  isFraud   count\n",
       "7         US     True   12122\n",
       "9    Unknown     True     149\n",
       "3        MEX     True      64\n",
       "1        CAN     True      55\n",
       "5         PR     True      27\n",
       "6         US    False  762587\n",
       "8    Unknown    False    4413\n",
       "2        MEX    False    3066\n",
       "0        CAN    False    2369\n",
       "4         PR    False    1511"
      ]
     },
     "execution_count": 32,
     "metadata": {},
     "output_type": "execute_result"
    }
   ],
   "source": [
    "pd.DataFrame(df_copy.groupby([categorical_column[1]])['isFraud']\n",
    "             .value_counts()).rename(columns={'isFraud':'count'}).reset_index().sort_values(['isFraud','count'],ascending=False)"
   ]
  },
  {
   "cell_type": "code",
   "execution_count": 33,
   "id": "88161cce",
   "metadata": {},
   "outputs": [
    {
     "data": {
      "text/plain": [
       "<AxesSubplot:xlabel='acqCountry', ylabel='count'>"
      ]
     },
     "execution_count": 33,
     "metadata": {},
     "output_type": "execute_result"
    },
    {
     "data": {
      "image/png": "[encoded data removed]",
      "text/plain": [
       "<Figure size 1440x504 with 1 Axes>"
      ]
     },
     "metadata": {
      "needs_background": "light"
     },
     "output_type": "display_data"
    }
   ],
   "source": [
    "plt.figure(figsize=(20,7))\n",
    "sns.countplot(data=df_copy,x=categorical_column[1],hue = 'isFraud')"
   ]
  },
  {
   "cell_type": "markdown",
   "id": "03f57211",
   "metadata": {},
   "source": [
    "clearly we can see US have fraud rate of 1.5% while for PR the rate is 1.7%. but we can see there are more transcation for US."
   ]
  },
  {
   "cell_type": "code",
   "execution_count": 34,
   "id": "e1bd7810",
   "metadata": {},
   "outputs": [
    {
     "data": {
      "text/html": [
       "<div>\n",
       "<style scoped>\n",
       "    .dataframe tbody tr th:only-of-type {\n",
       "        vertical-align: middle;\n",
       "    }\n",
       "\n",
       "    .dataframe tbody tr th {\n",
       "        vertical-align: top;\n",
       "    }\n",
       "\n",
       "    .dataframe thead th {\n",
       "        text-align: right;\n",
       "    }\n",
       "</style>\n",
       "<table border=\"1\" class=\"dataframe\">\n",
       "  <thead>\n",
       "    <tr style=\"text-align: right;\">\n",
       "      <th></th>\n",
       "      <th>merchantCountryCode</th>\n",
       "      <th>isFraud</th>\n",
       "      <th>count</th>\n",
       "    </tr>\n",
       "  </thead>\n",
       "  <tbody>\n",
       "    <tr>\n",
       "      <th>7</th>\n",
       "      <td>US</td>\n",
       "      <td>True</td>\n",
       "      <td>12188</td>\n",
       "    </tr>\n",
       "    <tr>\n",
       "      <th>9</th>\n",
       "      <td>Unknown</td>\n",
       "      <td>True</td>\n",
       "      <td>82</td>\n",
       "    </tr>\n",
       "    <tr>\n",
       "      <th>3</th>\n",
       "      <td>MEX</td>\n",
       "      <td>True</td>\n",
       "      <td>64</td>\n",
       "    </tr>\n",
       "    <tr>\n",
       "      <th>1</th>\n",
       "      <td>CAN</td>\n",
       "      <td>True</td>\n",
       "      <td>56</td>\n",
       "    </tr>\n",
       "    <tr>\n",
       "      <th>5</th>\n",
       "      <td>PR</td>\n",
       "      <td>True</td>\n",
       "      <td>27</td>\n",
       "    </tr>\n",
       "    <tr>\n",
       "      <th>6</th>\n",
       "      <td>US</td>\n",
       "      <td>False</td>\n",
       "      <td>766323</td>\n",
       "    </tr>\n",
       "    <tr>\n",
       "      <th>2</th>\n",
       "      <td>MEX</td>\n",
       "      <td>False</td>\n",
       "      <td>3079</td>\n",
       "    </tr>\n",
       "    <tr>\n",
       "      <th>0</th>\n",
       "      <td>CAN</td>\n",
       "      <td>False</td>\n",
       "      <td>2370</td>\n",
       "    </tr>\n",
       "    <tr>\n",
       "      <th>4</th>\n",
       "      <td>PR</td>\n",
       "      <td>False</td>\n",
       "      <td>1532</td>\n",
       "    </tr>\n",
       "    <tr>\n",
       "      <th>8</th>\n",
       "      <td>Unknown</td>\n",
       "      <td>False</td>\n",
       "      <td>642</td>\n",
       "    </tr>\n",
       "  </tbody>\n",
       "</table>\n",
       "</div>"
      ],
      "text/plain": [
       "  merchantCountryCode  isFraud   count\n",
       "7                  US     True   12188\n",
       "9             Unknown     True      82\n",
       "3                 MEX     True      64\n",
       "1                 CAN     True      56\n",
       "5                  PR     True      27\n",
       "6                  US    False  766323\n",
       "2                 MEX    False    3079\n",
       "0                 CAN    False    2370\n",
       "4                  PR    False    1532\n",
       "8             Unknown    False     642"
      ]
     },
     "execution_count": 34,
     "metadata": {},
     "output_type": "execute_result"
    }
   ],
   "source": [
    "pd.DataFrame(df_copy.groupby([categorical_column[2]])['isFraud']\n",
    "             .value_counts()).rename(columns={'isFraud':'count'}).reset_index().sort_values(['isFraud','count'],ascending=False)"
   ]
  },
  {
   "cell_type": "code",
   "execution_count": 35,
   "id": "2d00e3c8",
   "metadata": {},
   "outputs": [
    {
     "data": {
      "text/plain": [
       "<AxesSubplot:xlabel='merchantCountryCode', ylabel='count'>"
      ]
     },
     "execution_count": 35,
     "metadata": {},
     "output_type": "execute_result"
    },
    {
     "data": {
      "image/png": "[encoded data removed]",
      "text/plain": [
       "<Figure size 1440x504 with 1 Axes>"
      ]
     },
     "metadata": {
      "needs_background": "light"
     },
     "output_type": "display_data"
    }
   ],
   "source": [
    "plt.figure(figsize=(20,7))\n",
    "sns.countplot(data=df_copy,x=categorical_column[2],hue = 'isFraud')"
   ]
  },
  {
   "cell_type": "markdown",
   "id": "0ed70ff4",
   "metadata": {},
   "source": [
    "we can note that US have merchant face fraud at the rate of 1.5% which is higher than any other country in the table."
   ]
  },
  {
   "cell_type": "code",
   "execution_count": 36,
   "id": "a82debb0",
   "metadata": {},
   "outputs": [
    {
     "data": {
      "text/html": [
       "<div>\n",
       "<style scoped>\n",
       "    .dataframe tbody tr th:only-of-type {\n",
       "        vertical-align: middle;\n",
       "    }\n",
       "\n",
       "    .dataframe tbody tr th {\n",
       "        vertical-align: top;\n",
       "    }\n",
       "\n",
       "    .dataframe thead th {\n",
       "        text-align: right;\n",
       "    }\n",
       "</style>\n",
       "<table border=\"1\" class=\"dataframe\">\n",
       "  <thead>\n",
       "    <tr style=\"text-align: right;\">\n",
       "      <th></th>\n",
       "      <th>merchantCategoryCode</th>\n",
       "      <th>isFraud</th>\n",
       "      <th>count</th>\n",
       "    </tr>\n",
       "  </thead>\n",
       "  <tbody>\n",
       "    <tr>\n",
       "      <th>24</th>\n",
       "      <td>online_retail</td>\n",
       "      <td>True</td>\n",
       "      <td>4938</td>\n",
       "    </tr>\n",
       "    <tr>\n",
       "      <th>22</th>\n",
       "      <td>online_gifts</td>\n",
       "      <td>True</td>\n",
       "      <td>1606</td>\n",
       "    </tr>\n",
       "    <tr>\n",
       "      <th>29</th>\n",
       "      <td>rideshare</td>\n",
       "      <td>True</td>\n",
       "      <td>1272</td>\n",
       "    </tr>\n",
       "    <tr>\n",
       "      <th>8</th>\n",
       "      <td>fastfood</td>\n",
       "      <td>True</td>\n",
       "      <td>1074</td>\n",
       "    </tr>\n",
       "    <tr>\n",
       "      <th>10</th>\n",
       "      <td>food</td>\n",
       "      <td>True</td>\n",
       "      <td>1014</td>\n",
       "    </tr>\n",
       "    <tr>\n",
       "      <th>6</th>\n",
       "      <td>entertainment</td>\n",
       "      <td>True</td>\n",
       "      <td>961</td>\n",
       "    </tr>\n",
       "    <tr>\n",
       "      <th>1</th>\n",
       "      <td>airline</td>\n",
       "      <td>True</td>\n",
       "      <td>534</td>\n",
       "    </tr>\n",
       "    <tr>\n",
       "      <th>3</th>\n",
       "      <td>auto</td>\n",
       "      <td>True</td>\n",
       "      <td>273</td>\n",
       "    </tr>\n",
       "    <tr>\n",
       "      <th>19</th>\n",
       "      <td>hotels</td>\n",
       "      <td>True</td>\n",
       "      <td>250</td>\n",
       "    </tr>\n",
       "    <tr>\n",
       "      <th>31</th>\n",
       "      <td>subscriptions</td>\n",
       "      <td>True</td>\n",
       "      <td>216</td>\n",
       "    </tr>\n",
       "    <tr>\n",
       "      <th>14</th>\n",
       "      <td>furniture</td>\n",
       "      <td>True</td>\n",
       "      <td>103</td>\n",
       "    </tr>\n",
       "    <tr>\n",
       "      <th>17</th>\n",
       "      <td>health</td>\n",
       "      <td>True</td>\n",
       "      <td>90</td>\n",
       "    </tr>\n",
       "    <tr>\n",
       "      <th>27</th>\n",
       "      <td>personal care</td>\n",
       "      <td>True</td>\n",
       "      <td>86</td>\n",
       "    </tr>\n",
       "    <tr>\n",
       "      <th>23</th>\n",
       "      <td>online_retail</td>\n",
       "      <td>False</td>\n",
       "      <td>197218</td>\n",
       "    </tr>\n",
       "    <tr>\n",
       "      <th>7</th>\n",
       "      <td>fastfood</td>\n",
       "      <td>False</td>\n",
       "      <td>111064</td>\n",
       "    </tr>\n",
       "    <tr>\n",
       "      <th>5</th>\n",
       "      <td>entertainment</td>\n",
       "      <td>False</td>\n",
       "      <td>79137</td>\n",
       "    </tr>\n",
       "    <tr>\n",
       "      <th>9</th>\n",
       "      <td>food</td>\n",
       "      <td>False</td>\n",
       "      <td>74476</td>\n",
       "    </tr>\n",
       "    <tr>\n",
       "      <th>21</th>\n",
       "      <td>online_gifts</td>\n",
       "      <td>False</td>\n",
       "      <td>64632</td>\n",
       "    </tr>\n",
       "    <tr>\n",
       "      <th>28</th>\n",
       "      <td>rideshare</td>\n",
       "      <td>False</td>\n",
       "      <td>49864</td>\n",
       "    </tr>\n",
       "    <tr>\n",
       "      <th>18</th>\n",
       "      <td>hotels</td>\n",
       "      <td>False</td>\n",
       "      <td>33847</td>\n",
       "    </tr>\n",
       "    <tr>\n",
       "      <th>12</th>\n",
       "      <td>fuel</td>\n",
       "      <td>False</td>\n",
       "      <td>23910</td>\n",
       "    </tr>\n",
       "    <tr>\n",
       "      <th>30</th>\n",
       "      <td>subscriptions</td>\n",
       "      <td>False</td>\n",
       "      <td>22685</td>\n",
       "    </tr>\n",
       "    <tr>\n",
       "      <th>2</th>\n",
       "      <td>auto</td>\n",
       "      <td>False</td>\n",
       "      <td>21378</td>\n",
       "    </tr>\n",
       "    <tr>\n",
       "      <th>16</th>\n",
       "      <td>health</td>\n",
       "      <td>False</td>\n",
       "      <td>19002</td>\n",
       "    </tr>\n",
       "    <tr>\n",
       "      <th>26</th>\n",
       "      <td>personal care</td>\n",
       "      <td>False</td>\n",
       "      <td>18878</td>\n",
       "    </tr>\n",
       "    <tr>\n",
       "      <th>20</th>\n",
       "      <td>mobileapps</td>\n",
       "      <td>False</td>\n",
       "      <td>14990</td>\n",
       "    </tr>\n",
       "    <tr>\n",
       "      <th>0</th>\n",
       "      <td>airline</td>\n",
       "      <td>False</td>\n",
       "      <td>14878</td>\n",
       "    </tr>\n",
       "    <tr>\n",
       "      <th>25</th>\n",
       "      <td>online_subscriptions</td>\n",
       "      <td>False</td>\n",
       "      <td>11067</td>\n",
       "    </tr>\n",
       "    <tr>\n",
       "      <th>13</th>\n",
       "      <td>furniture</td>\n",
       "      <td>False</td>\n",
       "      <td>7329</td>\n",
       "    </tr>\n",
       "    <tr>\n",
       "      <th>11</th>\n",
       "      <td>food_delivery</td>\n",
       "      <td>False</td>\n",
       "      <td>6000</td>\n",
       "    </tr>\n",
       "    <tr>\n",
       "      <th>15</th>\n",
       "      <td>gym</td>\n",
       "      <td>False</td>\n",
       "      <td>2209</td>\n",
       "    </tr>\n",
       "    <tr>\n",
       "      <th>4</th>\n",
       "      <td>cable/phone</td>\n",
       "      <td>False</td>\n",
       "      <td>1382</td>\n",
       "    </tr>\n",
       "  </tbody>\n",
       "</table>\n",
       "</div>"
      ],
      "text/plain": [
       "    merchantCategoryCode  isFraud   count\n",
       "24         online_retail     True    4938\n",
       "22          online_gifts     True    1606\n",
       "29             rideshare     True    1272\n",
       "8               fastfood     True    1074\n",
       "10                  food     True    1014\n",
       "6          entertainment     True     961\n",
       "1                airline     True     534\n",
       "3                   auto     True     273\n",
       "19                hotels     True     250\n",
       "31         subscriptions     True     216\n",
       "14             furniture     True     103\n",
       "17                health     True      90\n",
       "27         personal care     True      86\n",
       "23         online_retail    False  197218\n",
       "7               fastfood    False  111064\n",
       "5          entertainment    False   79137\n",
       "9                   food    False   74476\n",
       "21          online_gifts    False   64632\n",
       "28             rideshare    False   49864\n",
       "18                hotels    False   33847\n",
       "12                  fuel    False   23910\n",
       "30         subscriptions    False   22685\n",
       "2                   auto    False   21378\n",
       "16                health    False   19002\n",
       "26         personal care    False   18878\n",
       "20            mobileapps    False   14990\n",
       "0                airline    False   14878\n",
       "25  online_subscriptions    False   11067\n",
       "13             furniture    False    7329\n",
       "11         food_delivery    False    6000\n",
       "15                   gym    False    2209\n",
       "4            cable/phone    False    1382"
      ]
     },
     "execution_count": 36,
     "metadata": {},
     "output_type": "execute_result"
    }
   ],
   "source": [
    "pd.DataFrame(df_copy.groupby([categorical_column[3]])['isFraud']\n",
    "             .value_counts()).rename(columns={'isFraud':'count'}).reset_index().sort_values(['isFraud','count'],ascending=False)"
   ]
  },
  {
   "cell_type": "code",
   "execution_count": 37,
   "id": "e3472681",
   "metadata": {},
   "outputs": [
    {
     "data": {
      "text/plain": [
       "<AxesSubplot:xlabel='merchantCategoryCode', ylabel='count'>"
      ]
     },
     "execution_count": 37,
     "metadata": {},
     "output_type": "execute_result"
    },
    {
     "data": {
      "image/png": "[encoded data removed]",
      "text/plain": [
       "<Figure size 1440x504 with 1 Axes>"
      ]
     },
     "metadata": {
      "needs_background": "light"
     },
     "output_type": "display_data"
    }
   ],
   "source": [
    "plt.figure(figsize=(20,7))\n",
    "sns.countplot(data=df_copy,x=categorical_column[3],hue = 'isFraud')"
   ]
  },
  {
   "cell_type": "markdown",
   "id": "a315c34b",
   "metadata": {},
   "source": [
    "online retail faced have most frauds any many categories didn't even face a single fraud"
   ]
  },
  {
   "cell_type": "code",
   "execution_count": 38,
   "id": "5ac5f16f",
   "metadata": {},
   "outputs": [
    {
     "data": {
      "text/html": [
       "<div>\n",
       "<style scoped>\n",
       "    .dataframe tbody tr th:only-of-type {\n",
       "        vertical-align: middle;\n",
       "    }\n",
       "\n",
       "    .dataframe tbody tr th {\n",
       "        vertical-align: top;\n",
       "    }\n",
       "\n",
       "    .dataframe thead th {\n",
       "        text-align: right;\n",
       "    }\n",
       "</style>\n",
       "<table border=\"1\" class=\"dataframe\">\n",
       "  <thead>\n",
       "    <tr style=\"text-align: right;\">\n",
       "      <th></th>\n",
       "      <th>transactionType</th>\n",
       "      <th>isFraud</th>\n",
       "      <th>count</th>\n",
       "    </tr>\n",
       "  </thead>\n",
       "  <tbody>\n",
       "    <tr>\n",
       "      <th>3</th>\n",
       "      <td>PURCHASE</td>\n",
       "      <td>True</td>\n",
       "      <td>11950</td>\n",
       "    </tr>\n",
       "    <tr>\n",
       "      <th>5</th>\n",
       "      <td>REVERSAL</td>\n",
       "      <td>True</td>\n",
       "      <td>337</td>\n",
       "    </tr>\n",
       "    <tr>\n",
       "      <th>1</th>\n",
       "      <td>ADDRESS_VERIFICATION</td>\n",
       "      <td>True</td>\n",
       "      <td>116</td>\n",
       "    </tr>\n",
       "    <tr>\n",
       "      <th>7</th>\n",
       "      <td>Unknown</td>\n",
       "      <td>True</td>\n",
       "      <td>14</td>\n",
       "    </tr>\n",
       "    <tr>\n",
       "      <th>2</th>\n",
       "      <td>PURCHASE</td>\n",
       "      <td>False</td>\n",
       "      <td>733243</td>\n",
       "    </tr>\n",
       "    <tr>\n",
       "      <th>0</th>\n",
       "      <td>ADDRESS_VERIFICATION</td>\n",
       "      <td>False</td>\n",
       "      <td>20053</td>\n",
       "    </tr>\n",
       "    <tr>\n",
       "      <th>4</th>\n",
       "      <td>REVERSAL</td>\n",
       "      <td>False</td>\n",
       "      <td>19966</td>\n",
       "    </tr>\n",
       "    <tr>\n",
       "      <th>6</th>\n",
       "      <td>Unknown</td>\n",
       "      <td>False</td>\n",
       "      <td>684</td>\n",
       "    </tr>\n",
       "  </tbody>\n",
       "</table>\n",
       "</div>"
      ],
      "text/plain": [
       "        transactionType  isFraud   count\n",
       "3              PURCHASE     True   11950\n",
       "5              REVERSAL     True     337\n",
       "1  ADDRESS_VERIFICATION     True     116\n",
       "7               Unknown     True      14\n",
       "2              PURCHASE    False  733243\n",
       "0  ADDRESS_VERIFICATION    False   20053\n",
       "4              REVERSAL    False   19966\n",
       "6               Unknown    False     684"
      ]
     },
     "execution_count": 38,
     "metadata": {},
     "output_type": "execute_result"
    }
   ],
   "source": [
    "pd.DataFrame(df_copy.groupby([categorical_column[4]])['isFraud']\n",
    "             .value_counts()).rename(columns={'isFraud':'count'}).reset_index().sort_values(['isFraud','count'],ascending=False)"
   ]
  },
  {
   "cell_type": "code",
   "execution_count": 39,
   "id": "ae0737b4",
   "metadata": {},
   "outputs": [
    {
     "data": {
      "text/plain": [
       "<AxesSubplot:xlabel='transactionType', ylabel='count'>"
      ]
     },
     "execution_count": 39,
     "metadata": {},
     "output_type": "execute_result"
    },
    {
     "data": {
      "image/png": "[encoded data removed]",
      "text/plain": [
       "<Figure size 1440x504 with 1 Axes>"
      ]
     },
     "metadata": {
      "needs_background": "light"
     },
     "output_type": "display_data"
    }
   ],
   "source": [
    "plt.figure(figsize=(20,7))\n",
    "sns.countplot(data=df_copy,x=categorical_column[4],hue = 'isFraud')"
   ]
  },
  {
   "cell_type": "markdown",
   "id": "882eac82",
   "metadata": {},
   "source": [
    "The transaction of kind PURCHASE have faced many frauds while ADDRESS_VERIFICATION have least number of frauds. "
   ]
  },
  {
   "cell_type": "code",
   "execution_count": 40,
   "id": "1ed32727",
   "metadata": {},
   "outputs": [
    {
     "data": {
      "text/html": [
       "<div>\n",
       "<style scoped>\n",
       "    .dataframe tbody tr th:only-of-type {\n",
       "        vertical-align: middle;\n",
       "    }\n",
       "\n",
       "    .dataframe tbody tr th {\n",
       "        vertical-align: top;\n",
       "    }\n",
       "\n",
       "    .dataframe thead th {\n",
       "        text-align: right;\n",
       "    }\n",
       "</style>\n",
       "<table border=\"1\" class=\"dataframe\">\n",
       "  <thead>\n",
       "    <tr style=\"text-align: right;\">\n",
       "      <th></th>\n",
       "      <th>cardPresent</th>\n",
       "      <th>isFraud</th>\n",
       "      <th>count</th>\n",
       "    </tr>\n",
       "  </thead>\n",
       "  <tbody>\n",
       "    <tr>\n",
       "      <th>1</th>\n",
       "      <td>False</td>\n",
       "      <td>True</td>\n",
       "      <td>8962</td>\n",
       "    </tr>\n",
       "    <tr>\n",
       "      <th>3</th>\n",
       "      <td>True</td>\n",
       "      <td>True</td>\n",
       "      <td>3455</td>\n",
       "    </tr>\n",
       "    <tr>\n",
       "      <th>0</th>\n",
       "      <td>False</td>\n",
       "      <td>False</td>\n",
       "      <td>424533</td>\n",
       "    </tr>\n",
       "    <tr>\n",
       "      <th>2</th>\n",
       "      <td>True</td>\n",
       "      <td>False</td>\n",
       "      <td>349413</td>\n",
       "    </tr>\n",
       "  </tbody>\n",
       "</table>\n",
       "</div>"
      ],
      "text/plain": [
       "   cardPresent  isFraud   count\n",
       "1        False     True    8962\n",
       "3         True     True    3455\n",
       "0        False    False  424533\n",
       "2         True    False  349413"
      ]
     },
     "execution_count": 40,
     "metadata": {},
     "output_type": "execute_result"
    }
   ],
   "source": [
    "pd.DataFrame(df_copy.groupby([categorical_column[5]])['isFraud']\n",
    "             .value_counts()).rename(columns={'isFraud':'count'}).reset_index().sort_values(['isFraud','count'],ascending=False)"
   ]
  },
  {
   "cell_type": "code",
   "execution_count": 41,
   "id": "c464fa68",
   "metadata": {},
   "outputs": [
    {
     "data": {
      "text/plain": [
       "<AxesSubplot:xlabel='cardPresent', ylabel='count'>"
      ]
     },
     "execution_count": 41,
     "metadata": {},
     "output_type": "execute_result"
    },
    {
     "data": {
      "image/png": "[encoded data removed]",
      "text/plain": [
       "<Figure size 1440x504 with 1 Axes>"
      ]
     },
     "metadata": {
      "needs_background": "light"
     },
     "output_type": "display_data"
    }
   ],
   "source": [
    "plt.figure(figsize=(20,7))\n",
    "sns.countplot(data=df_copy,x=categorical_column[5],hue = 'isFraud')"
   ]
  },
  {
   "cell_type": "markdown",
   "id": "a7409a44",
   "metadata": {},
   "source": [
    "We can see if the card not present the fraud rate is 2%  and when the card is present the fraud rate drops down to 0.9%"
   ]
  },
  {
   "cell_type": "code",
   "execution_count": 42,
   "id": "80f9e9e2",
   "metadata": {},
   "outputs": [
    {
     "data": {
      "text/html": [
       "<div>\n",
       "<style scoped>\n",
       "    .dataframe tbody tr th:only-of-type {\n",
       "        vertical-align: middle;\n",
       "    }\n",
       "\n",
       "    .dataframe tbody tr th {\n",
       "        vertical-align: top;\n",
       "    }\n",
       "\n",
       "    .dataframe thead th {\n",
       "        text-align: right;\n",
       "    }\n",
       "</style>\n",
       "<table border=\"1\" class=\"dataframe\">\n",
       "  <thead>\n",
       "    <tr style=\"text-align: right;\">\n",
       "      <th></th>\n",
       "      <th>expirationDateKeyInMatch</th>\n",
       "      <th>isFraud</th>\n",
       "      <th>count</th>\n",
       "    </tr>\n",
       "  </thead>\n",
       "  <tbody>\n",
       "    <tr>\n",
       "      <th>1</th>\n",
       "      <td>False</td>\n",
       "      <td>True</td>\n",
       "      <td>12404</td>\n",
       "    </tr>\n",
       "    <tr>\n",
       "      <th>3</th>\n",
       "      <td>True</td>\n",
       "      <td>True</td>\n",
       "      <td>13</td>\n",
       "    </tr>\n",
       "    <tr>\n",
       "      <th>0</th>\n",
       "      <td>False</td>\n",
       "      <td>False</td>\n",
       "      <td>772916</td>\n",
       "    </tr>\n",
       "    <tr>\n",
       "      <th>2</th>\n",
       "      <td>True</td>\n",
       "      <td>False</td>\n",
       "      <td>1030</td>\n",
       "    </tr>\n",
       "  </tbody>\n",
       "</table>\n",
       "</div>"
      ],
      "text/plain": [
       "   expirationDateKeyInMatch  isFraud   count\n",
       "1                     False     True   12404\n",
       "3                      True     True      13\n",
       "0                     False    False  772916\n",
       "2                      True    False    1030"
      ]
     },
     "execution_count": 42,
     "metadata": {},
     "output_type": "execute_result"
    }
   ],
   "source": [
    "pd.DataFrame(df_copy.groupby([categorical_column[6]])['isFraud']\n",
    "             .value_counts()).rename(columns={'isFraud':'count'}).reset_index().sort_values(['isFraud','count'],ascending=False)"
   ]
  },
  {
   "cell_type": "code",
   "execution_count": 43,
   "id": "b00b4a0f",
   "metadata": {},
   "outputs": [
    {
     "data": {
      "text/plain": [
       "<AxesSubplot:xlabel='expirationDateKeyInMatch', ylabel='count'>"
      ]
     },
     "execution_count": 43,
     "metadata": {},
     "output_type": "execute_result"
    },
    {
     "data": {
      "image/png": "[encoded data removed]",
      "text/plain": [
       "<Figure size 1440x504 with 1 Axes>"
      ]
     },
     "metadata": {
      "needs_background": "light"
     },
     "output_type": "display_data"
    }
   ],
   "source": [
    "plt.figure(figsize=(20,7))\n",
    "sns.countplot(data=df_copy,x=categorical_column[6],hue = 'isFraud')"
   ]
  },
  {
   "cell_type": "markdown",
   "id": "12ddb5d8",
   "metadata": {},
   "source": [
    "we can see the rate of fraud when expirationDateKeyInMatch is False is 1.5% while the rate of fraud when expirationDateKeyInMatch is True is 1.2%. We can see the drop is of 0.3%, assuming this a significantl small drop we drop this column."
   ]
  },
  {
   "cell_type": "code",
   "execution_count": 44,
   "id": "b279f7cf",
   "metadata": {},
   "outputs": [],
   "source": [
    "categorical_column.remove('expirationDateKeyInMatch')\n",
    "categorical_column.remove('isFraud')"
   ]
  },
  {
   "cell_type": "markdown",
   "id": "5390a2d2",
   "metadata": {},
   "source": [
    "### Numerical Column"
   ]
  },
  {
   "cell_type": "code",
   "execution_count": 45,
   "id": "d2b2df31",
   "metadata": {},
   "outputs": [
    {
     "data": {
      "text/plain": [
       "['accountNumber',\n",
       " 'creditLimit',\n",
       " 'availableMoney',\n",
       " 'transactionAmount',\n",
       " 'posEntryMode',\n",
       " 'posConditionCode',\n",
       " 'cardCVV',\n",
       " 'enteredCVV',\n",
       " 'cardLast4Digits',\n",
       " 'currentBalance',\n",
       " 'currentExpMonth',\n",
       " 'currentExpYear',\n",
       " 'accountOpenMonth',\n",
       " 'accountOpenYear',\n",
       " 'MonthOfLastAddressChange',\n",
       " 'YearOfLastAddressChange',\n",
       " 'DateOfLastAddressChange',\n",
       " 'transactionMonth',\n",
       " 'transactionHour']"
      ]
     },
     "execution_count": 45,
     "metadata": {},
     "output_type": "execute_result"
    }
   ],
   "source": [
    "numerical_column"
   ]
  },
  {
   "cell_type": "code",
   "execution_count": 46,
   "id": "d01f5c4c",
   "metadata": {},
   "outputs": [],
   "source": [
    "true = df_copy[df_copy['isFraud'] == True]\n",
    "false = df_copy[df_copy['isFraud'] == False]"
   ]
  },
  {
   "cell_type": "code",
   "execution_count": 47,
   "id": "8d6f9478",
   "metadata": {},
   "outputs": [
    {
     "data": {
      "image/png": "[encoded data removed]",
      "text/plain": [
       "<Figure size 1440x504 with 2 Axes>"
      ]
     },
     "metadata": {
      "needs_background": "light"
     },
     "output_type": "display_data"
    }
   ],
   "source": [
    "fig,ax = plt.subplots(2,1,sharex=True,sharey=True)\n",
    "fig.set_figwidth(20)\n",
    "fig.set_figheight(7)\n",
    "sns.kdeplot(data = true, x = feature_columns[0],ax=ax[0],shade='fill',thresh=0.5)\n",
    "ax[0].title.set_text('Frauds')\n",
    "sns.kdeplot(data = false, x = feature_columns[0],ax=ax[1],shade='fill',thresh=0.5)\n",
    "ax[1].title.set_text('Not Frauds')"
   ]
  },
  {
   "cell_type": "markdown",
   "id": "29b0258d",
   "metadata": {},
   "source": [
    "Most of the Non frauds transcations are low values but varies to a long range >2000 whereas as most frauds are low valued, we can also observe that as the peak of Non frauds started to decrease the frauds reaches to its peak.\n",
    "\n",
    "So we can say the Frauds are done on mid range prices\n"
   ]
  },
  {
   "cell_type": "code",
   "execution_count": 48,
   "id": "6c314a9e",
   "metadata": {},
   "outputs": [
    {
     "data": {
      "image/png": "[encoded data removed]",
      "text/plain": [
       "<Figure size 1440x504 with 2 Axes>"
      ]
     },
     "metadata": {
      "needs_background": "light"
     },
     "output_type": "display_data"
    }
   ],
   "source": [
    "fig,ax = plt.subplots(2,1,sharex=True,sharey=True)\n",
    "fig.set_figwidth(20)\n",
    "fig.set_figheight(7)\n",
    "sns.kdeplot(data = true, x = feature_columns[1],ax=ax[0],shade='fill',thresh=0.5)\n",
    "ax[0].title.set_text('Frauds')\n",
    "sns.kdeplot(data = false, x = feature_columns[1],ax=ax[1],shade='fill',thresh=0.5)\n",
    "ax[1].title.set_text('Not Frauds')"
   ]
  },
  {
   "cell_type": "code",
   "execution_count": 49,
   "id": "3b998026",
   "metadata": {},
   "outputs": [
    {
     "data": {
      "image/png": "[encoded data removed]",
      "text/plain": [
       "<Figure size 1440x504 with 2 Axes>"
      ]
     },
     "metadata": {
      "needs_background": "light"
     },
     "output_type": "display_data"
    }
   ],
   "source": [
    "fig,ax = plt.subplots(2,1,sharex=True,sharey=True)\n",
    "fig.set_figwidth(20)\n",
    "fig.set_figheight(7)\n",
    "sns.kdeplot(data = true, x = feature_columns[2],ax=ax[0],shade='fill',thresh=0.5)\n",
    "ax[0].title.set_text('Frauds')\n",
    "sns.kdeplot(data = false, x = feature_columns[2],ax=ax[1],shade='fill',thresh=0.5)\n",
    "ax[1].title.set_text('Not Frauds')"
   ]
  },
  {
   "cell_type": "markdown",
   "id": "a6b03b60",
   "metadata": {},
   "source": [
    "we can see the number of account Open in Different months is nearly same for most of the months, but we can see of the month 6 as the number of account increase the rate of fraud accoutn also increase and for the month 7 the fraud accounts decrease sharply."
   ]
  },
  {
   "cell_type": "markdown",
   "id": "72c1fdaf",
   "metadata": {},
   "source": [
    "So we can say number of frauds are alos depends on the months with large correlation, because as the the number of accounts open increase the frauds also increases."
   ]
  },
  {
   "cell_type": "code",
   "execution_count": 50,
   "id": "35092c77",
   "metadata": {},
   "outputs": [
    {
     "data": {
      "image/png": "[encoded data removed]",
      "text/plain": [
       "<Figure size 1440x504 with 2 Axes>"
      ]
     },
     "metadata": {
      "needs_background": "light"
     },
     "output_type": "display_data"
    }
   ],
   "source": [
    "fig,ax = plt.subplots(2,1,sharex=True,sharey=True)\n",
    "fig.set_figwidth(20)\n",
    "fig.set_figheight(7)\n",
    "sns.kdeplot(data = true, x = feature_columns[3],ax=ax[0],shade='fill',thresh=0.5)\n",
    "ax[0].title.set_text('Frauds')\n",
    "sns.kdeplot(data = false, x = feature_columns[3],ax=ax[1],shade='fill',thresh=0.5)\n",
    "ax[1].title.set_text('Not Frauds')"
   ]
  },
  {
   "cell_type": "code",
   "execution_count": 51,
   "id": "bb479369",
   "metadata": {},
   "outputs": [
    {
     "data": {
      "image/png": "[encoded data removed]",
      "text/plain": [
       "<Figure size 1440x504 with 2 Axes>"
      ]
     },
     "metadata": {
      "needs_background": "light"
     },
     "output_type": "display_data"
    }
   ],
   "source": [
    "fig,ax = plt.subplots(2,1,sharex=True,sharey=True)\n",
    "fig.set_figwidth(20)\n",
    "fig.set_figheight(7)\n",
    "sns.kdeplot(data = true, x = feature_columns[4],ax=ax[0],shade='fill',thresh=0.5)\n",
    "ax[0].title.set_text('Frauds')\n",
    "sns.kdeplot(data = false, x = feature_columns[4],ax=ax[1],shade='fill',thresh=0.5)\n",
    "ax[1].title.set_text('Not Frauds')"
   ]
  },
  {
   "cell_type": "markdown",
   "id": "cd4f87d9",
   "metadata": {},
   "source": [
    "we can see the as the density of the frauds are more when the current balance is negative or near to negative,"
   ]
  },
  {
   "cell_type": "code",
   "execution_count": 52,
   "id": "96a377aa",
   "metadata": {},
   "outputs": [
    {
     "data": {
      "image/png": "[encoded data removed]",
      "text/plain": [
       "<Figure size 1440x504 with 2 Axes>"
      ]
     },
     "metadata": {
      "needs_background": "light"
     },
     "output_type": "display_data"
    }
   ],
   "source": [
    "fig,ax = plt.subplots(2,1,sharex=True,sharey=True)\n",
    "fig.set_figwidth(20)\n",
    "fig.set_figheight(7)\n",
    "sns.kdeplot(data = true, x = feature_columns[5],ax=ax[0],shade='fill',thresh=0.5)\n",
    "ax[0].title.set_text('Frauds')\n",
    "sns.kdeplot(data = false, x = feature_columns[5],ax=ax[1],shade='fill',thresh=0.5)\n",
    "ax[1].title.set_text('Not Frauds')"
   ]
  },
  {
   "cell_type": "markdown",
   "id": "5372c2d5",
   "metadata": {},
   "source": [
    "the density of Frauds is more when the condition code is near 1, as we go further away the frauds decreses"
   ]
  },
  {
   "cell_type": "code",
   "execution_count": 53,
   "id": "7e4834f2",
   "metadata": {},
   "outputs": [
    {
     "data": {
      "image/png": "[encoded data removed]",
      "text/plain": [
       "<Figure size 1440x504 with 2 Axes>"
      ]
     },
     "metadata": {
      "needs_background": "light"
     },
     "output_type": "display_data"
    }
   ],
   "source": [
    "fig,ax = plt.subplots(2,1,sharex=True,sharey=True)\n",
    "fig.set_figwidth(20)\n",
    "fig.set_figheight(7)\n",
    "sns.kdeplot(data = true, x = feature_columns[6],ax=ax[0],shade='fill',thresh=0.5)\n",
    "ax[0].title.set_text('Frauds')\n",
    "sns.kdeplot(data = false, x = feature_columns[6],ax=ax[1],shade='fill',thresh=0.5)\n",
    "ax[1].title.set_text('Not Frauds')"
   ]
  },
  {
   "cell_type": "markdown",
   "id": "67d21576",
   "metadata": {},
   "source": [
    "we can see that the frauds are constant throught the months, but we can see non frauds transaction varies throughout the year"
   ]
  },
  {
   "cell_type": "code",
   "execution_count": 54,
   "id": "457b6fcb",
   "metadata": {},
   "outputs": [
    {
     "data": {
      "image/png": "[encoded data removed]",
      "text/plain": [
       "<Figure size 1440x504 with 2 Axes>"
      ]
     },
     "metadata": {
      "needs_background": "light"
     },
     "output_type": "display_data"
    }
   ],
   "source": [
    "fig,ax = plt.subplots(2,1,sharex=True,sharey=True)\n",
    "fig.set_figwidth(20)\n",
    "fig.set_figheight(7)\n",
    "sns.kdeplot(data = true, x = feature_columns[7],ax=ax[0],shade='fill',thresh=0.5)\n",
    "ax[0].title.set_text('Frauds')\n",
    "sns.kdeplot(data = false, x = feature_columns[7],ax=ax[1],shade='fill',thresh=0.5)\n",
    "ax[1].title.set_text('Not Frauds')"
   ]
  },
  {
   "cell_type": "markdown",
   "id": "3452660f",
   "metadata": {},
   "source": [
    "Clearly, as the year increase most recent accounts will impact the fraud rate.\n",
    "\n",
    "we can see the fraud rate is maximum for the year 2015 being most recent year."
   ]
  },
  {
   "cell_type": "markdown",
   "id": "89d4f813",
   "metadata": {},
   "source": [
    "###  preprocessing"
   ]
  },
  {
   "cell_type": "code",
   "execution_count": 55,
   "id": "2af45abc",
   "metadata": {},
   "outputs": [],
   "source": [
    "feature_columns.extend(categorical_column)"
   ]
  },
  {
   "cell_type": "code",
   "execution_count": 56,
   "id": "d6ed2196",
   "metadata": {},
   "outputs": [
    {
     "data": {
      "text/plain": [
       "['transactionAmount',\n",
       " 'posEntryMode',\n",
       " 'accountOpenMonth',\n",
       " 'enteredCVV',\n",
       " 'currentBalance',\n",
       " 'posConditionCode',\n",
       " 'transactionMonth',\n",
       " 'accountOpenYear',\n",
       " 'merchantName',\n",
       " 'acqCountry',\n",
       " 'merchantCountryCode',\n",
       " 'merchantCategoryCode',\n",
       " 'transactionType',\n",
       " 'cardPresent']"
      ]
     },
     "execution_count": 56,
     "metadata": {},
     "output_type": "execute_result"
    }
   ],
   "source": [
    "feature_columns"
   ]
  },
  {
   "cell_type": "code",
   "execution_count": 57,
   "id": "5fbf3117",
   "metadata": {},
   "outputs": [],
   "source": [
    "y = df_copy['isFraud']\n",
    "X = df_copy[feature_columns]"
   ]
  },
  {
   "cell_type": "code",
   "execution_count": 58,
   "id": "81dd620b",
   "metadata": {},
   "outputs": [],
   "source": [
    "le = LabelEncoder()\n",
    "oe = OrdinalEncoder(handle_unknown='use_encoded_value', unknown_value=206)\n",
    "ms = MinMaxScaler()\n",
    "ohe = OneHotEncoder(handle_unknown='ignore')"
   ]
  },
  {
   "cell_type": "code",
   "execution_count": 59,
   "id": "96833b5d",
   "metadata": {},
   "outputs": [],
   "source": [
    "ordinal_columns = categorical_column[:5]\n",
    "onehot_columns = [categorical_column[5]]\n",
    "numerical_column = list(set(feature_columns)-set(categorical_column))"
   ]
  },
  {
   "cell_type": "code",
   "execution_count": 60,
   "id": "edb4db8f",
   "metadata": {},
   "outputs": [],
   "source": [
    "transformer = ColumnTransformer(transformers=[('ordinal',oe,ordinal_columns),\n",
    "                                             ('onehot',ohe,onehot_columns),\n",
    "                                             ('scalar',ms,numerical_column)])"
   ]
  },
  {
   "cell_type": "code",
   "execution_count": 61,
   "id": "95fef569",
   "metadata": {},
   "outputs": [],
   "source": [
    "RUS=RandomUnderSampler(random_state=42)"
   ]
  },
  {
   "cell_type": "markdown",
   "id": "052cf521",
   "metadata": {},
   "source": [
    "### Modeling, Traning and Prediction"
   ]
  },
  {
   "cell_type": "code",
   "execution_count": 62,
   "id": "20d9b039",
   "metadata": {},
   "outputs": [],
   "source": [
    "def transform_and_resample_data(X,y):\n",
    "    \"\"\"\n",
    "    It accepts feature column and target column.\n",
    "    split the data int train and test set in stratify manner.\n",
    "    transform the target with label encoder\n",
    "    over sample the target set.\n",
    "    return train set and test set\n",
    "    \"\"\"\n",
    "    \n",
    "    train_X,test_X,train_y,test_y = train_test_split(X,y,test_size=0.2,random_state=42,stratify=y)\n",
    "    train_y = le.fit_transform(train_y)\n",
    "    test_y = le.transform(test_y)\n",
    "    train_X_resampled , train_y_resampled = RUS.fit_resample(train_X,train_y)\n",
    "\n",
    "\n",
    "    return train_X_resampled,train_y_resampled,test_X,test_y\n",
    "\n"
   ]
  },
  {
   "cell_type": "code",
   "execution_count": 63,
   "id": "d2fd783f",
   "metadata": {},
   "outputs": [],
   "source": [
    "def prune_tree(train_X,train_y,transformer):\n",
    "    \"\"\"\n",
    "    accepts the model and train data.\n",
    "    fit to Decision tree return the required parameter. \n",
    "    \n",
    "    It is used to prune the tree to generate range of the parameters.\n",
    "    \"\"\"\n",
    "    model = DecisionTreeClassifier(criterion='gini',random_state=42)\n",
    "    \n",
    "    pipeline=Pipeline(steps=[('transform',transformer),\n",
    "                             ('model',model)])\n",
    "    \n",
    "    pipeline.fit(train_X,train_y)\n",
    "    return model.tree_.max_depth,model.tree_.n_features"
   ]
  },
  {
   "cell_type": "code",
   "execution_count": 64,
   "id": "b551fa16",
   "metadata": {},
   "outputs": [],
   "source": [
    "def prune_forest(train_X,train_y,transformer):\n",
    "    \"\"\"\n",
    "    accepts the model and train data.\n",
    "    fit to Decision tree return the required parameter. \n",
    "    \n",
    "    It is used to prune the tree to generate range of the parameters.\n",
    "    \"\"\"\n",
    "    model = RandomForestClassifier(criterion='gini',random_state=42)\n",
    "    \n",
    "    pipeline=Pipeline(steps=[('transform',transformer),\n",
    "                             ('model',model)])\n",
    "    \n",
    "    pipeline.fit(train_X,train_y)\n",
    "    return model.n_estimators,model.max_depth"
   ]
  },
  {
   "cell_type": "code",
   "execution_count": 65,
   "id": "d539ec6f",
   "metadata": {},
   "outputs": [],
   "source": [
    "def model_selection(train_X,train_y,transformer,current=None):\n",
    "    \"\"\"\n",
    "    It is used to select different models for traning purpose based in the value of current.\n",
    "    \n",
    "    \"\"\"\n",
    "    if current == 0:\n",
    "        \n",
    "        label='Logistic Regression'\n",
    "        model = LogisticRegression(solver='liblinear')\n",
    "        params = {'model__C':[0.001,0.01,0.1,1,10],\n",
    "               'model__penalty':['l1','l2']}\n",
    "        \n",
    "    elif current == 1:\n",
    "        \n",
    "        label = 'KNeighborsClassifier'\n",
    "        model = KNeighborsClassifier(weights='distance')\n",
    "        params = {'model__n_neighbors':list(range(2,20))}\n",
    "        \n",
    "    elif current == 2:\n",
    "        \n",
    "        label = 'SVC'\n",
    "        model = SVC(kernel='rbf')\n",
    "        params = {'model__C':[0.001,0.01,0.1,1,10]}\n",
    "        \n",
    "    elif current == 3:\n",
    "        \n",
    "        label = 'DecisionTreeClassifier'\n",
    "        model = DecisionTreeClassifier(criterion='entropy',random_state=42)\n",
    "        max_depth, max_features = prune_tree(train_X,train_y,transformer)\n",
    "        params = {'model__max_depth':list(range(1,max_depth+1,2)),\n",
    "                 'model__max_features':list(range(1,max_features))}\n",
    "    elif current == 4:\n",
    "        label = 'RandomForestClassifier'\n",
    "        model = RandomForestClassifier(criterion='entropy',random_state=42,warm_start=True)\n",
    "        max_estimators,max_depth = prune_forest(train_X,train_y,transformer)\n",
    "        params = {'model__n_estimators':list(range(1,max_estimators+1,50))}\n",
    "        \n",
    "    else:\n",
    "        raise ValueError('No value passed for current')\n",
    "        \n",
    "    return model, params, label"
   ]
  },
  {
   "cell_type": "code",
   "execution_count": 66,
   "id": "6dadb26a",
   "metadata": {},
   "outputs": [],
   "source": [
    "def scoring(model , params, true, pred):\n",
    "    \"\"\"\n",
    "    It is used to score the model based on its preformance \n",
    "    Accepts model , parameter, original labels and predicted labels\n",
    "    \n",
    "    \"\"\"\n",
    "    re_Y = recall_score(true, pred, pos_label=1)\n",
    "    re_N = recall_score(true, pred, pos_label=0)\n",
    "    pr_Y = precision_score(true, pred, pos_label=1)\n",
    "    pr_N = precision_score(true, pred, pos_label=0)\n",
    "    f1_Y = f1_score(true, pred, pos_label=1)\n",
    "    f1_N = f1_score(true, pred, pos_label=0)\n",
    "    acc = accuracy_score(true, pred)\n",
    "    data = pd.Series({'model':model,\n",
    "                      'params': params,\n",
    "                      'recall_Yes': re_Y,\n",
    "                      'recall_No': re_N,\n",
    "                      'precision_Yes':pr_Y,\n",
    "                      'precision_No':pr_N,\n",
    "                      'f1_Yes':f1_Y,\n",
    "                      'f1_No':f1_N,\n",
    "                      'accuracy':acc})\n",
    "    \n",
    "    return data"
   ]
  },
  {
   "cell_type": "code",
   "execution_count": 67,
   "id": "50d5690f",
   "metadata": {},
   "outputs": [
    {
     "name": "stdout",
     "output_type": "stream",
     "text": [
      "* * * * * * * * * * * * * * * * * * * This results are for Logistic Regression * * * * * * * * * * * * * * * * * * *\n",
      "----- Classification report -----\n",
      "              precision    recall  f1-score   support\n",
      "\n",
      "           0       0.99      0.39      0.56    154790\n",
      "           1       0.02      0.68      0.03      2483\n",
      "\n",
      "    accuracy                           0.39    157273\n",
      "   macro avg       0.50      0.54      0.30    157273\n",
      "weighted avg       0.97      0.39      0.55    157273\n",
      "\n",
      "----- Confusion matrix -----\n",
      "[[60149 94641]\n",
      " [  788  1695]]\n",
      "* * * * * * * * * * * * * * * * * * * This results are for KNeighborsClassifier * * * * * * * * * * * * * * * * * * *\n",
      "----- Classification report -----\n",
      "              precision    recall  f1-score   support\n",
      "\n",
      "           0       0.99      0.65      0.79    154790\n",
      "           1       0.03      0.72      0.06      2483\n",
      "\n",
      "    accuracy                           0.65    157273\n",
      "   macro avg       0.51      0.69      0.42    157273\n",
      "weighted avg       0.98      0.65      0.78    157273\n",
      "\n",
      "----- Confusion matrix -----\n",
      "[[100943  53847]\n",
      " [   695   1788]]\n"
     ]
    },
    {
     "name": "stderr",
     "output_type": "stream",
     "text": [
      "C:\\ProgramData\\Anaconda3\\lib\\site-packages\\sklearn\\metrics\\_classification.py:1248: UndefinedMetricWarning: Precision is ill-defined and being set to 0.0 due to no predicted samples. Use `zero_division` parameter to control this behavior.\n",
      "  _warn_prf(average, modifier, msg_start, len(result))\n",
      "C:\\ProgramData\\Anaconda3\\lib\\site-packages\\sklearn\\metrics\\_classification.py:1248: UndefinedMetricWarning: Precision is ill-defined and being set to 0.0 due to no predicted samples. Use `zero_division` parameter to control this behavior.\n",
      "  _warn_prf(average, modifier, msg_start, len(result))\n"
     ]
    },
    {
     "name": "stdout",
     "output_type": "stream",
     "text": [
      "* * * * * * * * * * * * * * * * * * * This results are for SVC * * * * * * * * * * * * * * * * * * *\n",
      "----- Classification report -----\n",
      "              precision    recall  f1-score   support\n",
      "\n",
      "           0       0.99      0.49      0.66    154790\n",
      "           1       0.02      0.66      0.04      2483\n",
      "\n",
      "    accuracy                           0.49    157273\n",
      "   macro avg       0.50      0.57      0.35    157273\n",
      "weighted avg       0.97      0.49      0.65    157273\n",
      "\n",
      "----- Confusion matrix -----\n",
      "[[76147 78643]\n",
      " [  855  1628]]\n",
      "* * * * * * * * * * * * * * * * * * * This results are for DecisionTreeClassifier * * * * * * * * * * * * * * * * * * *\n",
      "----- Classification report -----\n",
      "              precision    recall  f1-score   support\n",
      "\n",
      "           0       0.99      0.26      0.41    154790\n",
      "           1       0.02      0.79      0.03      2483\n",
      "\n",
      "    accuracy                           0.26    157273\n",
      "   macro avg       0.50      0.52      0.22    157273\n",
      "weighted avg       0.97      0.26      0.40    157273\n",
      "\n",
      "----- Confusion matrix -----\n",
      "[[ 39675 115115]\n",
      " [   521   1962]]\n",
      "* * * * * * * * * * * * * * * * * * * This results are for RandomForestClassifier * * * * * * * * * * * * * * * * * * *\n",
      "----- Classification report -----\n",
      "              precision    recall  f1-score   support\n",
      "\n",
      "           0       0.99      0.75      0.85    154790\n",
      "           1       0.05      0.75      0.09      2483\n",
      "\n",
      "    accuracy                           0.75    157273\n",
      "   macro avg       0.52      0.75      0.47    157273\n",
      "weighted avg       0.98      0.75      0.84    157273\n",
      "\n",
      "----- Confusion matrix -----\n",
      "[[116034  38756]\n",
      " [   631   1852]]\n"
     ]
    }
   ],
   "source": [
    "performance =  pd.DataFrame(columns=['model','params','recall_Yes','recall_No','precision_Yes','precision_No','f1_Yes','f1_No','accuracy'])\n",
    "\n",
    "#get train and test set\n",
    "train_X,train_y,test_X,test_y = transform_and_resample_data(X,y)\n",
    "\n",
    "#call different model fir training and testing\n",
    "for i in range(5):\n",
    "    \n",
    "    model, param, label = model_selection(train_X, train_y, transformer, current=i)\n",
    "    pipeline = Pipeline(steps = [('transform',transformer),\n",
    "                             ('model',model)])\n",
    "    \n",
    "    #score metric \n",
    "    score = {'r':'recall','p':'precision'} \n",
    "    grid = GridSearchCV(pipeline,param,cv=4,scoring=score, refit='r')\n",
    "    \n",
    "    grid.fit(train_X,train_y)\n",
    "    \n",
    "    pred = grid.predict(test_X)\n",
    "    \n",
    "    para = grid.best_estimator_.named_steps['model']\n",
    "    \n",
    "    performance = performance.append(scoring(label, para, test_y, pred),ignore_index=True)\n",
    "\n",
    "    string = 'This results are for '+label\n",
    "    print(19*'* '+string+19*' *')\n",
    "    print('----- Classification report -----')\n",
    "    print(classification_report(test_y,pred))\n",
    "    print('----- Confusion matrix -----')\n",
    "    print(confusion_matrix(test_y,pred))"
   ]
  },
  {
   "cell_type": "code",
   "execution_count": 68,
   "id": "8247cf98",
   "metadata": {},
   "outputs": [
    {
     "data": {
      "text/html": [
       "<div>\n",
       "<style scoped>\n",
       "    .dataframe tbody tr th:only-of-type {\n",
       "        vertical-align: middle;\n",
       "    }\n",
       "\n",
       "    .dataframe tbody tr th {\n",
       "        vertical-align: top;\n",
       "    }\n",
       "\n",
       "    .dataframe thead th {\n",
       "        text-align: right;\n",
       "    }\n",
       "</style>\n",
       "<table border=\"1\" class=\"dataframe\">\n",
       "  <thead>\n",
       "    <tr style=\"text-align: right;\">\n",
       "      <th></th>\n",
       "      <th>model</th>\n",
       "      <th>params</th>\n",
       "      <th>recall_Yes</th>\n",
       "      <th>recall_No</th>\n",
       "      <th>precision_Yes</th>\n",
       "      <th>precision_No</th>\n",
       "      <th>f1_Yes</th>\n",
       "      <th>f1_No</th>\n",
       "      <th>accuracy</th>\n",
       "    </tr>\n",
       "  </thead>\n",
       "  <tbody>\n",
       "    <tr>\n",
       "      <th>0</th>\n",
       "      <td>Logistic Regression</td>\n",
       "      <td>LogisticRegression(C=0.001, penalty='l1', solv...</td>\n",
       "      <td>0.682642</td>\n",
       "      <td>0.388585</td>\n",
       "      <td>0.017595</td>\n",
       "      <td>0.987069</td>\n",
       "      <td>0.034305</td>\n",
       "      <td>0.557640</td>\n",
       "      <td>0.393227</td>\n",
       "    </tr>\n",
       "    <tr>\n",
       "      <th>1</th>\n",
       "      <td>KNeighborsClassifier</td>\n",
       "      <td>KNeighborsClassifier(n_neighbors=19, weights='...</td>\n",
       "      <td>0.720097</td>\n",
       "      <td>0.652129</td>\n",
       "      <td>0.032138</td>\n",
       "      <td>0.993162</td>\n",
       "      <td>0.061530</td>\n",
       "      <td>0.787301</td>\n",
       "      <td>0.653202</td>\n",
       "    </tr>\n",
       "    <tr>\n",
       "      <th>2</th>\n",
       "      <td>SVC</td>\n",
       "      <td>SVC(C=1)</td>\n",
       "      <td>0.655658</td>\n",
       "      <td>0.491937</td>\n",
       "      <td>0.020281</td>\n",
       "      <td>0.988896</td>\n",
       "      <td>0.039346</td>\n",
       "      <td>0.657029</td>\n",
       "      <td>0.494522</td>\n",
       "    </tr>\n",
       "    <tr>\n",
       "      <th>3</th>\n",
       "      <td>DecisionTreeClassifier</td>\n",
       "      <td>DecisionTreeClassifier(criterion='entropy', ma...</td>\n",
       "      <td>0.790173</td>\n",
       "      <td>0.256315</td>\n",
       "      <td>0.016758</td>\n",
       "      <td>0.987039</td>\n",
       "      <td>0.032820</td>\n",
       "      <td>0.406952</td>\n",
       "      <td>0.264743</td>\n",
       "    </tr>\n",
       "    <tr>\n",
       "      <th>4</th>\n",
       "      <td>RandomForestClassifier</td>\n",
       "      <td>(DecisionTreeClassifier(criterion='entropy', m...</td>\n",
       "      <td>0.745872</td>\n",
       "      <td>0.749622</td>\n",
       "      <td>0.045607</td>\n",
       "      <td>0.994591</td>\n",
       "      <td>0.085958</td>\n",
       "      <td>0.854904</td>\n",
       "      <td>0.749563</td>\n",
       "    </tr>\n",
       "  </tbody>\n",
       "</table>\n",
       "</div>"
      ],
      "text/plain": [
       "                    model                                             params  \\\n",
       "0     Logistic Regression  LogisticRegression(C=0.001, penalty='l1', solv...   \n",
       "1    KNeighborsClassifier  KNeighborsClassifier(n_neighbors=19, weights='...   \n",
       "2                     SVC                                           SVC(C=1)   \n",
       "3  DecisionTreeClassifier  DecisionTreeClassifier(criterion='entropy', ma...   \n",
       "4  RandomForestClassifier  (DecisionTreeClassifier(criterion='entropy', m...   \n",
       "\n",
       "   recall_Yes  recall_No  precision_Yes  precision_No    f1_Yes     f1_No  \\\n",
       "0    0.682642   0.388585       0.017595      0.987069  0.034305  0.557640   \n",
       "1    0.720097   0.652129       0.032138      0.993162  0.061530  0.787301   \n",
       "2    0.655658   0.491937       0.020281      0.988896  0.039346  0.657029   \n",
       "3    0.790173   0.256315       0.016758      0.987039  0.032820  0.406952   \n",
       "4    0.745872   0.749622       0.045607      0.994591  0.085958  0.854904   \n",
       "\n",
       "   accuracy  \n",
       "0  0.393227  \n",
       "1  0.653202  \n",
       "2  0.494522  \n",
       "3  0.264743  \n",
       "4  0.749563  "
      ]
     },
     "execution_count": 68,
     "metadata": {},
     "output_type": "execute_result"
    }
   ],
   "source": [
    "performance"
   ]
  },
  {
   "cell_type": "code",
   "execution_count": 69,
   "id": "a9d834aa",
   "metadata": {},
   "outputs": [],
   "source": [
    "v1,v2,v3,v4,v5 = performance['params']"
   ]
  },
  {
   "cell_type": "code",
   "execution_count": 70,
   "id": "fa1251ff",
   "metadata": {},
   "outputs": [],
   "source": [
    "estimator=[('kn',v2),('dt',v4),('rf',v5)]"
   ]
  },
  {
   "cell_type": "code",
   "execution_count": 71,
   "id": "4cd72843",
   "metadata": {},
   "outputs": [],
   "source": [
    "vote = VotingClassifier(estimators=estimator)"
   ]
  },
  {
   "cell_type": "code",
   "execution_count": 72,
   "id": "2146ee3d",
   "metadata": {},
   "outputs": [
    {
     "name": "stdout",
     "output_type": "stream",
     "text": [
      "              precision    recall  f1-score   support\n",
      "\n",
      "           0       0.99      0.63      0.77    154790\n",
      "           1       0.03      0.79      0.06      2483\n",
      "\n",
      "    accuracy                           0.63    157273\n",
      "   macro avg       0.51      0.71      0.42    157273\n",
      "weighted avg       0.98      0.63      0.76    157273\n",
      "\n"
     ]
    }
   ],
   "source": [
    "pipeline = Pipeline(steps = [('transform',transformer),\n",
    "                             ('model',vote)])\n",
    "\n",
    "score = {'r':'recall','p':'precision'} \n",
    "pipeline.fit(train_X,train_y)\n",
    "   \n",
    "pred = pipeline.predict(test_X)\n",
    "    \n",
    "print(classification_report(test_y,pred))"
   ]
  },
  {
   "cell_type": "markdown",
   "id": "dfcdd182",
   "metadata": {},
   "source": [
    "Since our aim is to build a predictive model we opt for the model with best precision, and accuracy.\n",
    "\n",
    "Choosing only the accuracy as the parameter can be influenced by the negative class.\n",
    "\n",
    "We can see clearly the model RandomForestClassifier is best of the rest gaining high recall, accuracy and precision for both negative and positive class."
   ]
  },
  {
   "cell_type": "code",
   "execution_count": null,
   "id": "7a13efd5",
   "metadata": {},
   "outputs": [],
   "source": []
  }
 ],
 "metadata": {
  "kernelspec": {
   "display_name": "Python 3",
   "language": "python",
   "name": "python3"
  },
  "language_info": {
   "codemirror_mode": {
    "name": "ipython",
    "version": 3
   },
   "file_extension": ".py",
   "mimetype": "text/x-python",
   "name": "python",
   "nbconvert_exporter": "python",
   "pygments_lexer": "ipython3",
   "version": "3.8.10"
  }
 },
 "nbformat": 4,
 "nbformat_minor": 5
}
